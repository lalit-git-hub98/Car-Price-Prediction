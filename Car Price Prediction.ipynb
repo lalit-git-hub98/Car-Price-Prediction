{
 "cells": [
  {
   "cell_type": "code",
   "execution_count": 1,
   "id": "84b58d08",
   "metadata": {},
   "outputs": [],
   "source": [
    "import numpy as np\n",
    "import pandas as pd\n",
    "import matplotlib.pyplot as plt\n",
    "import seaborn as sns\n",
    "import os"
   ]
  },
  {
   "cell_type": "code",
   "execution_count": 2,
   "id": "8969eb14",
   "metadata": {},
   "outputs": [
    {
     "name": "stdout",
     "output_type": "stream",
     "text": [
      "Requirement already satisfied: xgboost in c:\\users\\lalit\\anaconda3\\lib\\site-packages (2.0.3)\n",
      "Requirement already satisfied: scipy in c:\\users\\lalit\\anaconda3\\lib\\site-packages (from xgboost) (1.9.1)\n",
      "Requirement already satisfied: numpy in c:\\users\\lalit\\anaconda3\\lib\\site-packages (from xgboost) (1.21.5)\n",
      "Note: you may need to restart the kernel to use updated packages.\n"
     ]
    },
    {
     "name": "stderr",
     "output_type": "stream",
     "text": [
      "WARNING: Ignoring invalid distribution -ygments (c:\\users\\lalit\\anaconda3\\lib\\site-packages)\n",
      "WARNING: Ignoring invalid distribution -ygments (c:\\users\\lalit\\anaconda3\\lib\\site-packages)\n",
      "WARNING: Ignoring invalid distribution -ygments (c:\\users\\lalit\\anaconda3\\lib\\site-packages)\n",
      "WARNING: Ignoring invalid distribution -ygments (c:\\users\\lalit\\anaconda3\\lib\\site-packages)\n",
      "WARNING: Ignoring invalid distribution -ygments (c:\\users\\lalit\\anaconda3\\lib\\site-packages)\n",
      "WARNING: Ignoring invalid distribution -ygments (c:\\users\\lalit\\anaconda3\\lib\\site-packages)\n"
     ]
    }
   ],
   "source": [
    "pip install xgboost"
   ]
  },
  {
   "cell_type": "code",
   "execution_count": 116,
   "id": "9be402eb",
   "metadata": {},
   "outputs": [],
   "source": [
    "from sklearn.preprocessing import LabelEncoder\n",
    "from sklearn.preprocessing import MinMaxScaler\n",
    "from sklearn.decomposition import PCA\n",
    "from sklearn.cluster import KMeans"
   ]
  },
  {
   "cell_type": "code",
   "execution_count": 4,
   "id": "58ef8845",
   "metadata": {},
   "outputs": [],
   "source": [
    "from sklearn.model_selection import train_test_split\n",
    "from sklearn.linear_model import LinearRegression\n",
    "from sklearn.preprocessing import PolynomialFeatures\n",
    "from sklearn.tree import DecisionTreeRegressor\n",
    "from sklearn.ensemble import RandomForestRegressor\n",
    "from xgboost import XGBRegressor\n",
    "from sklearn.metrics import mean_squared_error, mean_absolute_error, r2_score, accuracy_score"
   ]
  },
  {
   "cell_type": "code",
   "execution_count": 5,
   "id": "4d65f516",
   "metadata": {},
   "outputs": [],
   "source": [
    "from sklearn.linear_model import LogisticRegression\n",
    "from sklearn.neural_network import MLPClassifier\n",
    "from sklearn.tree import DecisionTreeClassifier\n",
    "from sklearn.ensemble import RandomForestClassifier\n",
    "from xgboost import XGBClassifier\n",
    "from sklearn.metrics import accuracy_score, classification_report, confusion_matrix, precision_score, recall_score, f1_score, ConfusionMatrixDisplay"
   ]
  },
  {
   "cell_type": "markdown",
   "id": "bfae9186",
   "metadata": {},
   "source": [
    "# Download Data"
   ]
  },
  {
   "cell_type": "code",
   "execution_count": 6,
   "id": "6cfe5d79",
   "metadata": {
    "scrolled": true
   },
   "outputs": [
    {
     "name": "stderr",
     "output_type": "stream",
     "text": [
      "Downloading...\n",
      "From: https://drive.google.com/uc?id=1euU1hlZ_GeGx58cg9-MYYJND-xKSKkSc\n",
      "To: C:\\Users\\LALIT\\Intro to AI & ML\\Project Proposal\\car_prices.csv\n",
      "\n",
      "  0%|          | 0.00/88.0M [00:00<?, ?B/s]\n",
      "  1%|          | 524k/88.0M [00:00<00:36, 2.40MB/s]\n",
      "  2%|1         | 1.57M/88.0M [00:00<00:21, 3.97MB/s]\n",
      "  2%|2         | 2.10M/88.0M [00:00<00:20, 4.22MB/s]\n",
      "  4%|3         | 3.15M/88.0M [00:00<00:17, 4.81MB/s]\n",
      "  5%|4         | 4.19M/88.0M [00:00<00:16, 4.95MB/s]\n",
      "  6%|5         | 5.24M/88.0M [00:01<00:16, 5.17MB/s]\n",
      "  7%|7         | 6.29M/88.0M [00:01<00:14, 5.46MB/s]\n",
      "  8%|8         | 7.34M/88.0M [00:01<00:14, 5.50MB/s]\n",
      " 10%|9         | 8.39M/88.0M [00:01<00:14, 5.68MB/s]\n",
      " 11%|#         | 9.44M/88.0M [00:01<00:13, 5.65MB/s]\n",
      " 12%|#1        | 10.5M/88.0M [00:02<00:13, 5.79MB/s]\n",
      " 13%|#3        | 11.5M/88.0M [00:02<00:11, 6.39MB/s]\n",
      " 15%|#4        | 13.1M/88.0M [00:02<00:09, 7.95MB/s]\n",
      " 17%|#7        | 15.2M/88.0M [00:02<00:06, 10.6MB/s]\n",
      " 20%|#9        | 17.3M/88.0M [00:02<00:05, 12.3MB/s]\n",
      " 22%|##2       | 19.4M/88.0M [00:02<00:05, 13.6MB/s]\n",
      " 24%|##4       | 21.5M/88.0M [00:02<00:04, 14.5MB/s]\n",
      " 27%|##6       | 23.6M/88.0M [00:02<00:04, 15.2MB/s]\n",
      " 29%|##9       | 25.7M/88.0M [00:02<00:03, 15.7MB/s]\n",
      " 32%|###1      | 27.8M/88.0M [00:03<00:03, 16.0MB/s]\n",
      " 34%|###3      | 29.9M/88.0M [00:03<00:03, 16.2MB/s]\n",
      " 36%|###6      | 32.0M/88.0M [00:03<00:03, 16.4MB/s]\n",
      " 39%|###8      | 34.1M/88.0M [00:03<00:04, 12.7MB/s]\n",
      " 43%|####3     | 38.3M/88.0M [00:03<00:02, 17.9MB/s]\n",
      " 46%|####5     | 40.4M/88.0M [00:03<00:02, 18.2MB/s]\n",
      " 48%|####8     | 42.5M/88.0M [00:03<00:02, 17.8MB/s]\n",
      " 51%|#####     | 44.6M/88.0M [00:04<00:02, 17.5MB/s]\n",
      " 53%|#####2    | 46.7M/88.0M [00:04<00:02, 17.9MB/s]\n",
      " 57%|#####6    | 49.8M/88.0M [00:04<00:01, 20.1MB/s]\n",
      " 61%|######    | 53.5M/88.0M [00:04<00:01, 22.9MB/s]\n",
      " 64%|######4   | 56.6M/88.0M [00:04<00:01, 24.5MB/s]\n",
      " 68%|######7   | 59.8M/88.0M [00:04<00:01, 25.7MB/s]\n",
      " 75%|#######5  | 66.1M/88.0M [00:04<00:00, 34.8MB/s]\n",
      " 79%|#######9  | 69.7M/88.0M [00:05<00:00, 23.7MB/s]\n",
      " 83%|########2 | 72.9M/88.0M [00:05<00:00, 19.8MB/s]\n",
      " 91%|#########1| 80.2M/88.0M [00:05<00:00, 27.7MB/s]\n",
      " 95%|#########5| 83.9M/88.0M [00:05<00:00, 29.0MB/s]\n",
      "100%|##########| 88.0M/88.0M [00:05<00:00, 15.7MB/s]\n"
     ]
    }
   ],
   "source": [
    "!gdown 1euU1hlZ_GeGx58cg9-MYYJND-xKSKkSc"
   ]
  },
  {
   "cell_type": "code",
   "execution_count": 7,
   "id": "e3a51d0f",
   "metadata": {},
   "outputs": [
    {
     "data": {
      "text/plain": [
       "'car_prices.csv'"
      ]
     },
     "execution_count": 7,
     "metadata": {},
     "output_type": "execute_result"
    }
   ],
   "source": [
    "os.listdir()[2]"
   ]
  },
  {
   "cell_type": "markdown",
   "id": "ee9ea638",
   "metadata": {},
   "source": [
    "# Load the data file\n",
    "Using pandas, load the datafile to a dataframe"
   ]
  },
  {
   "cell_type": "code",
   "execution_count": 8,
   "id": "ebfa9f69",
   "metadata": {},
   "outputs": [],
   "source": [
    "data = pd.read_csv('car_prices.csv')"
   ]
  },
  {
   "cell_type": "code",
   "execution_count": 9,
   "id": "6adc91f7",
   "metadata": {},
   "outputs": [
    {
     "data": {
      "text/html": [
       "<div>\n",
       "<style scoped>\n",
       "    .dataframe tbody tr th:only-of-type {\n",
       "        vertical-align: middle;\n",
       "    }\n",
       "\n",
       "    .dataframe tbody tr th {\n",
       "        vertical-align: top;\n",
       "    }\n",
       "\n",
       "    .dataframe thead th {\n",
       "        text-align: right;\n",
       "    }\n",
       "</style>\n",
       "<table border=\"1\" class=\"dataframe\">\n",
       "  <thead>\n",
       "    <tr style=\"text-align: right;\">\n",
       "      <th></th>\n",
       "      <th>year</th>\n",
       "      <th>make</th>\n",
       "      <th>model</th>\n",
       "      <th>trim</th>\n",
       "      <th>body</th>\n",
       "      <th>transmission</th>\n",
       "      <th>vin</th>\n",
       "      <th>state</th>\n",
       "      <th>condition</th>\n",
       "      <th>odometer</th>\n",
       "      <th>color</th>\n",
       "      <th>interior</th>\n",
       "      <th>seller</th>\n",
       "      <th>mmr</th>\n",
       "      <th>sellingprice</th>\n",
       "      <th>saledate</th>\n",
       "    </tr>\n",
       "  </thead>\n",
       "  <tbody>\n",
       "    <tr>\n",
       "      <th>0</th>\n",
       "      <td>2015</td>\n",
       "      <td>Kia</td>\n",
       "      <td>Sorento</td>\n",
       "      <td>LX</td>\n",
       "      <td>SUV</td>\n",
       "      <td>automatic</td>\n",
       "      <td>5xyktca69fg566472</td>\n",
       "      <td>ca</td>\n",
       "      <td>5.0</td>\n",
       "      <td>16639.0</td>\n",
       "      <td>white</td>\n",
       "      <td>black</td>\n",
       "      <td>kia motors america  inc</td>\n",
       "      <td>20500.0</td>\n",
       "      <td>21500.0</td>\n",
       "      <td>Tue Dec 16 2014 12:30:00 GMT-0800 (PST)</td>\n",
       "    </tr>\n",
       "    <tr>\n",
       "      <th>1</th>\n",
       "      <td>2015</td>\n",
       "      <td>Kia</td>\n",
       "      <td>Sorento</td>\n",
       "      <td>LX</td>\n",
       "      <td>SUV</td>\n",
       "      <td>automatic</td>\n",
       "      <td>5xyktca69fg561319</td>\n",
       "      <td>ca</td>\n",
       "      <td>5.0</td>\n",
       "      <td>9393.0</td>\n",
       "      <td>white</td>\n",
       "      <td>beige</td>\n",
       "      <td>kia motors america  inc</td>\n",
       "      <td>20800.0</td>\n",
       "      <td>21500.0</td>\n",
       "      <td>Tue Dec 16 2014 12:30:00 GMT-0800 (PST)</td>\n",
       "    </tr>\n",
       "    <tr>\n",
       "      <th>2</th>\n",
       "      <td>2014</td>\n",
       "      <td>BMW</td>\n",
       "      <td>3 Series</td>\n",
       "      <td>328i SULEV</td>\n",
       "      <td>Sedan</td>\n",
       "      <td>automatic</td>\n",
       "      <td>wba3c1c51ek116351</td>\n",
       "      <td>ca</td>\n",
       "      <td>45.0</td>\n",
       "      <td>1331.0</td>\n",
       "      <td>gray</td>\n",
       "      <td>black</td>\n",
       "      <td>financial services remarketing (lease)</td>\n",
       "      <td>31900.0</td>\n",
       "      <td>30000.0</td>\n",
       "      <td>Thu Jan 15 2015 04:30:00 GMT-0800 (PST)</td>\n",
       "    </tr>\n",
       "    <tr>\n",
       "      <th>3</th>\n",
       "      <td>2015</td>\n",
       "      <td>Volvo</td>\n",
       "      <td>S60</td>\n",
       "      <td>T5</td>\n",
       "      <td>Sedan</td>\n",
       "      <td>automatic</td>\n",
       "      <td>yv1612tb4f1310987</td>\n",
       "      <td>ca</td>\n",
       "      <td>41.0</td>\n",
       "      <td>14282.0</td>\n",
       "      <td>white</td>\n",
       "      <td>black</td>\n",
       "      <td>volvo na rep/world omni</td>\n",
       "      <td>27500.0</td>\n",
       "      <td>27750.0</td>\n",
       "      <td>Thu Jan 29 2015 04:30:00 GMT-0800 (PST)</td>\n",
       "    </tr>\n",
       "    <tr>\n",
       "      <th>4</th>\n",
       "      <td>2014</td>\n",
       "      <td>BMW</td>\n",
       "      <td>6 Series Gran Coupe</td>\n",
       "      <td>650i</td>\n",
       "      <td>Sedan</td>\n",
       "      <td>automatic</td>\n",
       "      <td>wba6b2c57ed129731</td>\n",
       "      <td>ca</td>\n",
       "      <td>43.0</td>\n",
       "      <td>2641.0</td>\n",
       "      <td>gray</td>\n",
       "      <td>black</td>\n",
       "      <td>financial services remarketing (lease)</td>\n",
       "      <td>66000.0</td>\n",
       "      <td>67000.0</td>\n",
       "      <td>Thu Dec 18 2014 12:30:00 GMT-0800 (PST)</td>\n",
       "    </tr>\n",
       "  </tbody>\n",
       "</table>\n",
       "</div>"
      ],
      "text/plain": [
       "   year   make                model        trim   body transmission  \\\n",
       "0  2015    Kia              Sorento          LX    SUV    automatic   \n",
       "1  2015    Kia              Sorento          LX    SUV    automatic   \n",
       "2  2014    BMW             3 Series  328i SULEV  Sedan    automatic   \n",
       "3  2015  Volvo                  S60          T5  Sedan    automatic   \n",
       "4  2014    BMW  6 Series Gran Coupe        650i  Sedan    automatic   \n",
       "\n",
       "                 vin state  condition  odometer  color interior  \\\n",
       "0  5xyktca69fg566472    ca        5.0   16639.0  white    black   \n",
       "1  5xyktca69fg561319    ca        5.0    9393.0  white    beige   \n",
       "2  wba3c1c51ek116351    ca       45.0    1331.0   gray    black   \n",
       "3  yv1612tb4f1310987    ca       41.0   14282.0  white    black   \n",
       "4  wba6b2c57ed129731    ca       43.0    2641.0   gray    black   \n",
       "\n",
       "                                   seller      mmr  sellingprice  \\\n",
       "0                 kia motors america  inc  20500.0       21500.0   \n",
       "1                 kia motors america  inc  20800.0       21500.0   \n",
       "2  financial services remarketing (lease)  31900.0       30000.0   \n",
       "3                 volvo na rep/world omni  27500.0       27750.0   \n",
       "4  financial services remarketing (lease)  66000.0       67000.0   \n",
       "\n",
       "                                  saledate  \n",
       "0  Tue Dec 16 2014 12:30:00 GMT-0800 (PST)  \n",
       "1  Tue Dec 16 2014 12:30:00 GMT-0800 (PST)  \n",
       "2  Thu Jan 15 2015 04:30:00 GMT-0800 (PST)  \n",
       "3  Thu Jan 29 2015 04:30:00 GMT-0800 (PST)  \n",
       "4  Thu Dec 18 2014 12:30:00 GMT-0800 (PST)  "
      ]
     },
     "execution_count": 9,
     "metadata": {},
     "output_type": "execute_result"
    }
   ],
   "source": [
    "data.head()"
   ]
  },
  {
   "cell_type": "code",
   "execution_count": 10,
   "id": "45419127",
   "metadata": {},
   "outputs": [
    {
     "data": {
      "text/html": [
       "<div>\n",
       "<style scoped>\n",
       "    .dataframe tbody tr th:only-of-type {\n",
       "        vertical-align: middle;\n",
       "    }\n",
       "\n",
       "    .dataframe tbody tr th {\n",
       "        vertical-align: top;\n",
       "    }\n",
       "\n",
       "    .dataframe thead th {\n",
       "        text-align: right;\n",
       "    }\n",
       "</style>\n",
       "<table border=\"1\" class=\"dataframe\">\n",
       "  <thead>\n",
       "    <tr style=\"text-align: right;\">\n",
       "      <th></th>\n",
       "      <th>year</th>\n",
       "      <th>condition</th>\n",
       "      <th>odometer</th>\n",
       "      <th>mmr</th>\n",
       "      <th>sellingprice</th>\n",
       "    </tr>\n",
       "  </thead>\n",
       "  <tbody>\n",
       "    <tr>\n",
       "      <th>count</th>\n",
       "      <td>558837.000000</td>\n",
       "      <td>547017.000000</td>\n",
       "      <td>558743.000000</td>\n",
       "      <td>558799.000000</td>\n",
       "      <td>558825.000000</td>\n",
       "    </tr>\n",
       "    <tr>\n",
       "      <th>mean</th>\n",
       "      <td>2010.038927</td>\n",
       "      <td>30.672365</td>\n",
       "      <td>68320.017767</td>\n",
       "      <td>13769.377495</td>\n",
       "      <td>13611.358810</td>\n",
       "    </tr>\n",
       "    <tr>\n",
       "      <th>std</th>\n",
       "      <td>3.966864</td>\n",
       "      <td>13.402832</td>\n",
       "      <td>53398.542821</td>\n",
       "      <td>9679.967174</td>\n",
       "      <td>9749.501628</td>\n",
       "    </tr>\n",
       "    <tr>\n",
       "      <th>min</th>\n",
       "      <td>1982.000000</td>\n",
       "      <td>1.000000</td>\n",
       "      <td>1.000000</td>\n",
       "      <td>25.000000</td>\n",
       "      <td>1.000000</td>\n",
       "    </tr>\n",
       "    <tr>\n",
       "      <th>25%</th>\n",
       "      <td>2007.000000</td>\n",
       "      <td>23.000000</td>\n",
       "      <td>28371.000000</td>\n",
       "      <td>7100.000000</td>\n",
       "      <td>6900.000000</td>\n",
       "    </tr>\n",
       "    <tr>\n",
       "      <th>50%</th>\n",
       "      <td>2012.000000</td>\n",
       "      <td>35.000000</td>\n",
       "      <td>52254.000000</td>\n",
       "      <td>12250.000000</td>\n",
       "      <td>12100.000000</td>\n",
       "    </tr>\n",
       "    <tr>\n",
       "      <th>75%</th>\n",
       "      <td>2013.000000</td>\n",
       "      <td>42.000000</td>\n",
       "      <td>99109.000000</td>\n",
       "      <td>18300.000000</td>\n",
       "      <td>18200.000000</td>\n",
       "    </tr>\n",
       "    <tr>\n",
       "      <th>max</th>\n",
       "      <td>2015.000000</td>\n",
       "      <td>49.000000</td>\n",
       "      <td>999999.000000</td>\n",
       "      <td>182000.000000</td>\n",
       "      <td>230000.000000</td>\n",
       "    </tr>\n",
       "  </tbody>\n",
       "</table>\n",
       "</div>"
      ],
      "text/plain": [
       "                year      condition       odometer            mmr  \\\n",
       "count  558837.000000  547017.000000  558743.000000  558799.000000   \n",
       "mean     2010.038927      30.672365   68320.017767   13769.377495   \n",
       "std         3.966864      13.402832   53398.542821    9679.967174   \n",
       "min      1982.000000       1.000000       1.000000      25.000000   \n",
       "25%      2007.000000      23.000000   28371.000000    7100.000000   \n",
       "50%      2012.000000      35.000000   52254.000000   12250.000000   \n",
       "75%      2013.000000      42.000000   99109.000000   18300.000000   \n",
       "max      2015.000000      49.000000  999999.000000  182000.000000   \n",
       "\n",
       "        sellingprice  \n",
       "count  558825.000000  \n",
       "mean    13611.358810  \n",
       "std      9749.501628  \n",
       "min         1.000000  \n",
       "25%      6900.000000  \n",
       "50%     12100.000000  \n",
       "75%     18200.000000  \n",
       "max    230000.000000  "
      ]
     },
     "execution_count": 10,
     "metadata": {},
     "output_type": "execute_result"
    }
   ],
   "source": [
    "data.describe()"
   ]
  },
  {
   "cell_type": "code",
   "execution_count": 11,
   "id": "299ad2e1",
   "metadata": {},
   "outputs": [],
   "source": [
    "car_data_trimmed = data[data['sellingprice'] < 60000]"
   ]
  },
  {
   "cell_type": "code",
   "execution_count": 12,
   "id": "1519293b",
   "metadata": {},
   "outputs": [],
   "source": [
    "car_data_trimmed = car_data_trimmed[car_data_trimmed['sellingprice'] > 1000]"
   ]
  },
  {
   "cell_type": "code",
   "execution_count": 13,
   "id": "3f070498",
   "metadata": {},
   "outputs": [
    {
     "data": {
      "text/html": [
       "<div>\n",
       "<style scoped>\n",
       "    .dataframe tbody tr th:only-of-type {\n",
       "        vertical-align: middle;\n",
       "    }\n",
       "\n",
       "    .dataframe tbody tr th {\n",
       "        vertical-align: top;\n",
       "    }\n",
       "\n",
       "    .dataframe thead th {\n",
       "        text-align: right;\n",
       "    }\n",
       "</style>\n",
       "<table border=\"1\" class=\"dataframe\">\n",
       "  <thead>\n",
       "    <tr style=\"text-align: right;\">\n",
       "      <th></th>\n",
       "      <th>year</th>\n",
       "      <th>condition</th>\n",
       "      <th>odometer</th>\n",
       "      <th>mmr</th>\n",
       "      <th>sellingprice</th>\n",
       "    </tr>\n",
       "  </thead>\n",
       "  <tbody>\n",
       "    <tr>\n",
       "      <th>count</th>\n",
       "      <td>539235.00000</td>\n",
       "      <td>528846.000000</td>\n",
       "      <td>539179.000000</td>\n",
       "      <td>539209.000000</td>\n",
       "      <td>539235.000000</td>\n",
       "    </tr>\n",
       "    <tr>\n",
       "      <th>mean</th>\n",
       "      <td>2010.33356</td>\n",
       "      <td>31.224498</td>\n",
       "      <td>65345.790211</td>\n",
       "      <td>13988.202626</td>\n",
       "      <td>13847.248966</td>\n",
       "    </tr>\n",
       "    <tr>\n",
       "      <th>std</th>\n",
       "      <td>3.60645</td>\n",
       "      <td>13.066479</td>\n",
       "      <td>49865.297600</td>\n",
       "      <td>8844.090443</td>\n",
       "      <td>8893.711127</td>\n",
       "    </tr>\n",
       "    <tr>\n",
       "      <th>min</th>\n",
       "      <td>1982.00000</td>\n",
       "      <td>1.000000</td>\n",
       "      <td>1.000000</td>\n",
       "      <td>25.000000</td>\n",
       "      <td>1005.000000</td>\n",
       "    </tr>\n",
       "    <tr>\n",
       "      <th>25%</th>\n",
       "      <td>2008.00000</td>\n",
       "      <td>25.000000</td>\n",
       "      <td>27957.000000</td>\n",
       "      <td>7775.000000</td>\n",
       "      <td>7500.000000</td>\n",
       "    </tr>\n",
       "    <tr>\n",
       "      <th>50%</th>\n",
       "      <td>2012.00000</td>\n",
       "      <td>35.000000</td>\n",
       "      <td>50446.000000</td>\n",
       "      <td>12500.000000</td>\n",
       "      <td>12400.000000</td>\n",
       "    </tr>\n",
       "    <tr>\n",
       "      <th>75%</th>\n",
       "      <td>2013.00000</td>\n",
       "      <td>42.000000</td>\n",
       "      <td>94856.500000</td>\n",
       "      <td>18500.000000</td>\n",
       "      <td>18400.000000</td>\n",
       "    </tr>\n",
       "    <tr>\n",
       "      <th>max</th>\n",
       "      <td>2015.00000</td>\n",
       "      <td>49.000000</td>\n",
       "      <td>999999.000000</td>\n",
       "      <td>110000.000000</td>\n",
       "      <td>59900.000000</td>\n",
       "    </tr>\n",
       "  </tbody>\n",
       "</table>\n",
       "</div>"
      ],
      "text/plain": [
       "               year      condition       odometer            mmr  \\\n",
       "count  539235.00000  528846.000000  539179.000000  539209.000000   \n",
       "mean     2010.33356      31.224498   65345.790211   13988.202626   \n",
       "std         3.60645      13.066479   49865.297600    8844.090443   \n",
       "min      1982.00000       1.000000       1.000000      25.000000   \n",
       "25%      2008.00000      25.000000   27957.000000    7775.000000   \n",
       "50%      2012.00000      35.000000   50446.000000   12500.000000   \n",
       "75%      2013.00000      42.000000   94856.500000   18500.000000   \n",
       "max      2015.00000      49.000000  999999.000000  110000.000000   \n",
       "\n",
       "        sellingprice  \n",
       "count  539235.000000  \n",
       "mean    13847.248966  \n",
       "std      8893.711127  \n",
       "min      1005.000000  \n",
       "25%      7500.000000  \n",
       "50%     12400.000000  \n",
       "75%     18400.000000  \n",
       "max     59900.000000  "
      ]
     },
     "execution_count": 13,
     "metadata": {},
     "output_type": "execute_result"
    }
   ],
   "source": [
    "car_data_trimmed.describe()"
   ]
  },
  {
   "cell_type": "markdown",
   "id": "b6f465a3",
   "metadata": {},
   "source": [
    "# 1. Pre-Process Data"
   ]
  },
  {
   "cell_type": "markdown",
   "id": "9f765345",
   "metadata": {},
   "source": [
    "## 1.1 Check to see if data has gaps Nulls, N/A, None."
   ]
  },
  {
   "cell_type": "code",
   "execution_count": 14,
   "id": "c7c1675a",
   "metadata": {},
   "outputs": [],
   "source": [
    "null_values = car_data_trimmed.isna()"
   ]
  },
  {
   "cell_type": "code",
   "execution_count": 15,
   "id": "26abdb89",
   "metadata": {},
   "outputs": [],
   "source": [
    "null_per_column = null_values.sum()"
   ]
  },
  {
   "cell_type": "code",
   "execution_count": 16,
   "id": "fdbf78c2",
   "metadata": {},
   "outputs": [],
   "source": [
    "null_per_row = null_values.sum(axis=1)"
   ]
  },
  {
   "cell_type": "code",
   "execution_count": 17,
   "id": "0c1ecfd4",
   "metadata": {},
   "outputs": [
    {
     "data": {
      "text/plain": [
       "year                0\n",
       "make             9025\n",
       "model            9042\n",
       "trim             9344\n",
       "body            11476\n",
       "transmission    62807\n",
       "vin                 4\n",
       "state               0\n",
       "condition       10389\n",
       "odometer           56\n",
       "color             678\n",
       "interior          678\n",
       "seller              0\n",
       "mmr                26\n",
       "sellingprice        0\n",
       "saledate            0\n",
       "dtype: int64"
      ]
     },
     "execution_count": 17,
     "metadata": {},
     "output_type": "execute_result"
    }
   ],
   "source": [
    "null_per_column"
   ]
  },
  {
   "cell_type": "code",
   "execution_count": 18,
   "id": "51207915",
   "metadata": {},
   "outputs": [],
   "source": [
    "car_data_removed_null = car_data_trimmed.dropna()"
   ]
  },
  {
   "cell_type": "code",
   "execution_count": 19,
   "id": "e05e98f0",
   "metadata": {},
   "outputs": [
    {
     "data": {
      "text/plain": [
       "year            0\n",
       "make            0\n",
       "model           0\n",
       "trim            0\n",
       "body            0\n",
       "transmission    0\n",
       "vin             0\n",
       "state           0\n",
       "condition       0\n",
       "odometer        0\n",
       "color           0\n",
       "interior        0\n",
       "seller          0\n",
       "mmr             0\n",
       "sellingprice    0\n",
       "saledate        0\n",
       "dtype: int64"
      ]
     },
     "execution_count": 19,
     "metadata": {},
     "output_type": "execute_result"
    }
   ],
   "source": [
    "null_values_cleaned = car_data_removed_null.isna()\n",
    "null_per_column_cleaned = null_values_cleaned.sum()\n",
    "null_per_column_cleaned"
   ]
  },
  {
   "cell_type": "markdown",
   "id": "03a072b5",
   "metadata": {},
   "source": [
    "## 1.2 Anomalies (outliers) in the features"
   ]
  },
  {
   "cell_type": "code",
   "execution_count": 20,
   "id": "c3755737",
   "metadata": {},
   "outputs": [
    {
     "name": "stderr",
     "output_type": "stream",
     "text": [
      "C:\\Users\\LALIT\\AppData\\Local\\Temp\\ipykernel_9904\\1250133866.py:5: FutureWarning: Automatic reindexing on DataFrame vs Series comparisons is deprecated and will raise ValueError in a future version. Do `left, right = left.align(right, axis=1, copy=False)` before e.g. `left == right`\n",
      "  outliers = (car_data_removed_null < (Q_1 - threshold * IQR)) | (car_data_removed_null > (Q_3 + threshold * IQR))\n"
     ]
    }
   ],
   "source": [
    "Q_1 = car_data_removed_null.quantile(0.25)\n",
    "Q_3 = car_data_removed_null.quantile(0.75)\n",
    "IQR = Q_3 - Q_1\n",
    "threshold = 1.5\n",
    "outliers = (car_data_removed_null < (Q_1 - threshold * IQR)) | (car_data_removed_null > (Q_3 + threshold * IQR))"
   ]
  },
  {
   "cell_type": "code",
   "execution_count": 21,
   "id": "e1552c51",
   "metadata": {},
   "outputs": [],
   "source": [
    "no_outliers = outliers.sum().sum()"
   ]
  },
  {
   "cell_type": "code",
   "execution_count": 22,
   "id": "8e065a3c",
   "metadata": {},
   "outputs": [
    {
     "name": "stdout",
     "output_type": "stream",
     "text": [
      "Total number of outliers in the dataframe are:  40142\n"
     ]
    }
   ],
   "source": [
    "print('Total number of outliers in the dataframe are: ', no_outliers)"
   ]
  },
  {
   "cell_type": "code",
   "execution_count": 23,
   "id": "22ae8419",
   "metadata": {},
   "outputs": [],
   "source": [
    "car_data_removed_outlier = car_data_removed_null[~outliers.any(axis=1)] # Removed outliers in this block of code"
   ]
  },
  {
   "cell_type": "code",
   "execution_count": 24,
   "id": "3e5bfd10",
   "metadata": {},
   "outputs": [
    {
     "data": {
      "text/html": [
       "<div>\n",
       "<style scoped>\n",
       "    .dataframe tbody tr th:only-of-type {\n",
       "        vertical-align: middle;\n",
       "    }\n",
       "\n",
       "    .dataframe tbody tr th {\n",
       "        vertical-align: top;\n",
       "    }\n",
       "\n",
       "    .dataframe thead th {\n",
       "        text-align: right;\n",
       "    }\n",
       "</style>\n",
       "<table border=\"1\" class=\"dataframe\">\n",
       "  <thead>\n",
       "    <tr style=\"text-align: right;\">\n",
       "      <th></th>\n",
       "      <th>year</th>\n",
       "      <th>condition</th>\n",
       "      <th>odometer</th>\n",
       "      <th>mmr</th>\n",
       "      <th>sellingprice</th>\n",
       "    </tr>\n",
       "  </thead>\n",
       "  <tbody>\n",
       "    <tr>\n",
       "      <th>count</th>\n",
       "      <td>430855.000000</td>\n",
       "      <td>430855.000000</td>\n",
       "      <td>430855.000000</td>\n",
       "      <td>430855.000000</td>\n",
       "      <td>430855.000000</td>\n",
       "    </tr>\n",
       "    <tr>\n",
       "      <th>mean</th>\n",
       "      <td>2010.590579</td>\n",
       "      <td>31.384935</td>\n",
       "      <td>61829.785772</td>\n",
       "      <td>13391.876153</td>\n",
       "      <td>13248.714087</td>\n",
       "    </tr>\n",
       "    <tr>\n",
       "      <th>std</th>\n",
       "      <td>3.255918</td>\n",
       "      <td>12.850038</td>\n",
       "      <td>42737.806521</td>\n",
       "      <td>7144.393680</td>\n",
       "      <td>7235.115067</td>\n",
       "    </tr>\n",
       "    <tr>\n",
       "      <th>min</th>\n",
       "      <td>2001.000000</td>\n",
       "      <td>1.000000</td>\n",
       "      <td>1.000000</td>\n",
       "      <td>225.000000</td>\n",
       "      <td>1025.000000</td>\n",
       "    </tr>\n",
       "    <tr>\n",
       "      <th>25%</th>\n",
       "      <td>2008.000000</td>\n",
       "      <td>25.000000</td>\n",
       "      <td>28284.000000</td>\n",
       "      <td>8200.000000</td>\n",
       "      <td>8000.000000</td>\n",
       "    </tr>\n",
       "    <tr>\n",
       "      <th>50%</th>\n",
       "      <td>2012.000000</td>\n",
       "      <td>35.000000</td>\n",
       "      <td>49615.000000</td>\n",
       "      <td>12450.000000</td>\n",
       "      <td>12400.000000</td>\n",
       "    </tr>\n",
       "    <tr>\n",
       "      <th>75%</th>\n",
       "      <td>2013.000000</td>\n",
       "      <td>42.000000</td>\n",
       "      <td>90788.000000</td>\n",
       "      <td>17850.000000</td>\n",
       "      <td>17800.000000</td>\n",
       "    </tr>\n",
       "    <tr>\n",
       "      <th>max</th>\n",
       "      <td>2015.000000</td>\n",
       "      <td>49.000000</td>\n",
       "      <td>190432.000000</td>\n",
       "      <td>34100.000000</td>\n",
       "      <td>34200.000000</td>\n",
       "    </tr>\n",
       "  </tbody>\n",
       "</table>\n",
       "</div>"
      ],
      "text/plain": [
       "                year      condition       odometer            mmr  \\\n",
       "count  430855.000000  430855.000000  430855.000000  430855.000000   \n",
       "mean     2010.590579      31.384935   61829.785772   13391.876153   \n",
       "std         3.255918      12.850038   42737.806521    7144.393680   \n",
       "min      2001.000000       1.000000       1.000000     225.000000   \n",
       "25%      2008.000000      25.000000   28284.000000    8200.000000   \n",
       "50%      2012.000000      35.000000   49615.000000   12450.000000   \n",
       "75%      2013.000000      42.000000   90788.000000   17850.000000   \n",
       "max      2015.000000      49.000000  190432.000000   34100.000000   \n",
       "\n",
       "        sellingprice  \n",
       "count  430855.000000  \n",
       "mean    13248.714087  \n",
       "std      7235.115067  \n",
       "min      1025.000000  \n",
       "25%      8000.000000  \n",
       "50%     12400.000000  \n",
       "75%     17800.000000  \n",
       "max     34200.000000  "
      ]
     },
     "execution_count": 24,
     "metadata": {},
     "output_type": "execute_result"
    }
   ],
   "source": [
    "car_data_removed_outlier.describe()"
   ]
  },
  {
   "cell_type": "markdown",
   "id": "972ec212",
   "metadata": {},
   "source": [
    "## 1.3 Analyze the labels"
   ]
  },
  {
   "cell_type": "markdown",
   "id": "2629ee24",
   "metadata": {},
   "source": [
    "### 1.3.1 Provide the histogram of the regression label"
   ]
  },
  {
   "cell_type": "code",
   "execution_count": 25,
   "id": "e24454ed",
   "metadata": {},
   "outputs": [
    {
     "data": {
      "text/plain": [
       "<AxesSubplot:>"
      ]
     },
     "execution_count": 25,
     "metadata": {},
     "output_type": "execute_result"
    },
    {
     "data": {
      "image/png": "[encoded data removed]",
      "text/plain": [
       "<Figure size 640x480 with 1 Axes>"
      ]
     },
     "metadata": {},
     "output_type": "display_data"
    }
   ],
   "source": [
    "Regression_Label = car_data_removed_outlier['sellingprice']\n",
    "#len(Regression_Label)\n",
    "Regression_Label.hist(bins=5, legend = True)"
   ]
  },
  {
   "cell_type": "markdown",
   "id": "f53edc05",
   "metadata": {},
   "source": [
    "### 1.3.2 Provide the count of the numbers of record of each class"
   ]
  },
  {
   "cell_type": "code",
   "execution_count": 26,
   "id": "311db5cb",
   "metadata": {},
   "outputs": [],
   "source": [
    "class_bins = [1000 ,5000, 10000, 15000, 20000, 30000, 40000]\n",
    "class_names = ['<5k', '5k-10k', '10k-15k', '15k-20k', '20k-30k', '30k-40k']"
   ]
  },
  {
   "cell_type": "code",
   "execution_count": 27,
   "id": "d4db875f",
   "metadata": {},
   "outputs": [
    {
     "data": {
      "text/plain": [
       "[58054, 92756, 124723, 75829, 70224, 9269]"
      ]
     },
     "execution_count": 27,
     "metadata": {},
     "output_type": "execute_result"
    }
   ],
   "source": [
    "num_records = []\n",
    "for i in range(len(class_bins) - 1):\n",
    "    num_records_value = ((car_data_removed_outlier['sellingprice'] >= class_bins[i]) & (car_data_removed_outlier['sellingprice'] < class_bins[i+1])).sum()\n",
    "    num_records.append(num_records_value)\n",
    "num_records"
   ]
  },
  {
   "cell_type": "code",
   "execution_count": 28,
   "id": "d83a1189",
   "metadata": {},
   "outputs": [
    {
     "name": "stdout",
     "output_type": "stream",
     "text": [
      "Following are the counts for each label -->\n",
      "1. Number of records in '<5k' are 58054\n",
      "2. Number of records in '5k-10k' are 92756\n",
      "3. Number of records in '10k-15k' are 124723\n",
      "4. Number of records in '15k-20k' are 75829\n",
      "5. Number of records in '20k-30k' are 70224\n",
      "6. Number of records in '30k-40k' are 9269\n"
     ]
    }
   ],
   "source": [
    "print('Following are the counts for each label -->')\n",
    "for i in range(len(class_names)):\n",
    "    print(f\"{i+1}. Number of records in '{class_names[i]}' are {num_records[i]}\")"
   ]
  },
  {
   "cell_type": "markdown",
   "id": "286a101e",
   "metadata": {},
   "source": [
    "## 1.4 Encode columns that contains text"
   ]
  },
  {
   "cell_type": "code",
   "execution_count": 29,
   "id": "519b3925",
   "metadata": {},
   "outputs": [],
   "source": [
    "label_encoder = LabelEncoder()"
   ]
  },
  {
   "cell_type": "code",
   "execution_count": 30,
   "id": "8ab39dc6",
   "metadata": {},
   "outputs": [
    {
     "name": "stderr",
     "output_type": "stream",
     "text": [
      "C:\\Users\\LALIT\\AppData\\Local\\Temp\\ipykernel_9904\\3678365759.py:4: SettingWithCopyWarning: \n",
      "A value is trying to be set on a copy of a slice from a DataFrame.\n",
      "Try using .loc[row_indexer,col_indexer] = value instead\n",
      "\n",
      "See the caveats in the documentation: https://pandas.pydata.org/pandas-docs/stable/user_guide/indexing.html#returning-a-view-versus-a-copy\n",
      "  car_data_removed_outlier[col] = label_encoder.fit_transform(car_data_removed_outlier[col])\n"
     ]
    }
   ],
   "source": [
    "for col in car_data_removed_outlier.columns:\n",
    "    if car_data_removed_outlier[col].dtype == 'object':  # Check if column contains text\n",
    "        #print(col)\n",
    "        car_data_removed_outlier[col] = label_encoder.fit_transform(car_data_removed_outlier[col])"
   ]
  },
  {
   "cell_type": "code",
   "execution_count": 31,
   "id": "8174b965",
   "metadata": {},
   "outputs": [
    {
     "data": {
      "text/html": [
       "<div>\n",
       "<style scoped>\n",
       "    .dataframe tbody tr th:only-of-type {\n",
       "        vertical-align: middle;\n",
       "    }\n",
       "\n",
       "    .dataframe tbody tr th {\n",
       "        vertical-align: top;\n",
       "    }\n",
       "\n",
       "    .dataframe thead th {\n",
       "        text-align: right;\n",
       "    }\n",
       "</style>\n",
       "<table border=\"1\" class=\"dataframe\">\n",
       "  <thead>\n",
       "    <tr style=\"text-align: right;\">\n",
       "      <th></th>\n",
       "      <th>year</th>\n",
       "      <th>make</th>\n",
       "      <th>model</th>\n",
       "      <th>trim</th>\n",
       "      <th>body</th>\n",
       "      <th>transmission</th>\n",
       "      <th>vin</th>\n",
       "      <th>state</th>\n",
       "      <th>condition</th>\n",
       "      <th>odometer</th>\n",
       "      <th>color</th>\n",
       "      <th>interior</th>\n",
       "      <th>seller</th>\n",
       "      <th>mmr</th>\n",
       "      <th>sellingprice</th>\n",
       "      <th>saledate</th>\n",
       "    </tr>\n",
       "  </thead>\n",
       "  <tbody>\n",
       "    <tr>\n",
       "      <th>0</th>\n",
       "      <td>2015</td>\n",
       "      <td>18</td>\n",
       "      <td>533</td>\n",
       "      <td>683</td>\n",
       "      <td>32</td>\n",
       "      <td>0</td>\n",
       "      <td>315880</td>\n",
       "      <td>2</td>\n",
       "      <td>5.0</td>\n",
       "      <td>16639.0</td>\n",
       "      <td>17</td>\n",
       "      <td>1</td>\n",
       "      <td>5545</td>\n",
       "      <td>20500.0</td>\n",
       "      <td>21500.0</td>\n",
       "      <td>1611</td>\n",
       "    </tr>\n",
       "    <tr>\n",
       "      <th>1</th>\n",
       "      <td>2015</td>\n",
       "      <td>18</td>\n",
       "      <td>533</td>\n",
       "      <td>683</td>\n",
       "      <td>32</td>\n",
       "      <td>0</td>\n",
       "      <td>315874</td>\n",
       "      <td>2</td>\n",
       "      <td>5.0</td>\n",
       "      <td>9393.0</td>\n",
       "      <td>17</td>\n",
       "      <td>0</td>\n",
       "      <td>5545</td>\n",
       "      <td>20800.0</td>\n",
       "      <td>21500.0</td>\n",
       "      <td>1611</td>\n",
       "    </tr>\n",
       "    <tr>\n",
       "      <th>2</th>\n",
       "      <td>2014</td>\n",
       "      <td>2</td>\n",
       "      <td>6</td>\n",
       "      <td>223</td>\n",
       "      <td>33</td>\n",
       "      <td>0</td>\n",
       "      <td>395158</td>\n",
       "      <td>2</td>\n",
       "      <td>45.0</td>\n",
       "      <td>1331.0</td>\n",
       "      <td>7</td>\n",
       "      <td>1</td>\n",
       "      <td>3816</td>\n",
       "      <td>31900.0</td>\n",
       "      <td>30000.0</td>\n",
       "      <td>1040</td>\n",
       "    </tr>\n",
       "    <tr>\n",
       "      <th>3</th>\n",
       "      <td>2015</td>\n",
       "      <td>41</td>\n",
       "      <td>480</td>\n",
       "      <td>1025</td>\n",
       "      <td>33</td>\n",
       "      <td>0</td>\n",
       "      <td>422274</td>\n",
       "      <td>2</td>\n",
       "      <td>41.0</td>\n",
       "      <td>14282.0</td>\n",
       "      <td>17</td>\n",
       "      <td>1</td>\n",
       "      <td>10724</td>\n",
       "      <td>27500.0</td>\n",
       "      <td>27750.0</td>\n",
       "      <td>1129</td>\n",
       "    </tr>\n",
       "    <tr>\n",
       "      <th>5</th>\n",
       "      <td>2015</td>\n",
       "      <td>28</td>\n",
       "      <td>46</td>\n",
       "      <td>89</td>\n",
       "      <td>33</td>\n",
       "      <td>0</td>\n",
       "      <td>147618</td>\n",
       "      <td>2</td>\n",
       "      <td>1.0</td>\n",
       "      <td>5554.0</td>\n",
       "      <td>7</td>\n",
       "      <td>1</td>\n",
       "      <td>3533</td>\n",
       "      <td>15350.0</td>\n",
       "      <td>10900.0</td>\n",
       "      <td>1674</td>\n",
       "    </tr>\n",
       "    <tr>\n",
       "      <th>...</th>\n",
       "      <td>...</td>\n",
       "      <td>...</td>\n",
       "      <td>...</td>\n",
       "      <td>...</td>\n",
       "      <td>...</td>\n",
       "      <td>...</td>\n",
       "      <td>...</td>\n",
       "      <td>...</td>\n",
       "      <td>...</td>\n",
       "      <td>...</td>\n",
       "      <td>...</td>\n",
       "      <td>...</td>\n",
       "      <td>...</td>\n",
       "      <td>...</td>\n",
       "      <td>...</td>\n",
       "      <td>...</td>\n",
       "    </tr>\n",
       "    <tr>\n",
       "      <th>558831</th>\n",
       "      <td>2011</td>\n",
       "      <td>2</td>\n",
       "      <td>15</td>\n",
       "      <td>267</td>\n",
       "      <td>33</td>\n",
       "      <td>0</td>\n",
       "      <td>397030</td>\n",
       "      <td>4</td>\n",
       "      <td>39.0</td>\n",
       "      <td>66403.0</td>\n",
       "      <td>17</td>\n",
       "      <td>3</td>\n",
       "      <td>5802</td>\n",
       "      <td>20300.0</td>\n",
       "      <td>22800.0</td>\n",
       "      <td>1978</td>\n",
       "    </tr>\n",
       "    <tr>\n",
       "      <th>558833</th>\n",
       "      <td>2012</td>\n",
       "      <td>33</td>\n",
       "      <td>4</td>\n",
       "      <td>781</td>\n",
       "      <td>10</td>\n",
       "      <td>0</td>\n",
       "      <td>225524</td>\n",
       "      <td>32</td>\n",
       "      <td>5.0</td>\n",
       "      <td>54393.0</td>\n",
       "      <td>17</td>\n",
       "      <td>1</td>\n",
       "      <td>4986</td>\n",
       "      <td>30200.0</td>\n",
       "      <td>30800.0</td>\n",
       "      <td>3034</td>\n",
       "    </tr>\n",
       "    <tr>\n",
       "      <th>558834</th>\n",
       "      <td>2012</td>\n",
       "      <td>2</td>\n",
       "      <td>608</td>\n",
       "      <td>1257</td>\n",
       "      <td>32</td>\n",
       "      <td>0</td>\n",
       "      <td>311171</td>\n",
       "      <td>2</td>\n",
       "      <td>48.0</td>\n",
       "      <td>50561.0</td>\n",
       "      <td>1</td>\n",
       "      <td>1</td>\n",
       "      <td>3816</td>\n",
       "      <td>29800.0</td>\n",
       "      <td>34000.0</td>\n",
       "      <td>3034</td>\n",
       "    </tr>\n",
       "    <tr>\n",
       "      <th>558835</th>\n",
       "      <td>2015</td>\n",
       "      <td>28</td>\n",
       "      <td>46</td>\n",
       "      <td>89</td>\n",
       "      <td>71</td>\n",
       "      <td>0</td>\n",
       "      <td>147103</td>\n",
       "      <td>5</td>\n",
       "      <td>38.0</td>\n",
       "      <td>16658.0</td>\n",
       "      <td>17</td>\n",
       "      <td>1</td>\n",
       "      <td>3533</td>\n",
       "      <td>15100.0</td>\n",
       "      <td>11100.0</td>\n",
       "      <td>1161</td>\n",
       "    </tr>\n",
       "    <tr>\n",
       "      <th>558836</th>\n",
       "      <td>2014</td>\n",
       "      <td>9</td>\n",
       "      <td>205</td>\n",
       "      <td>1174</td>\n",
       "      <td>35</td>\n",
       "      <td>0</td>\n",
       "      <td>65496</td>\n",
       "      <td>2</td>\n",
       "      <td>34.0</td>\n",
       "      <td>15008.0</td>\n",
       "      <td>7</td>\n",
       "      <td>6</td>\n",
       "      <td>4055</td>\n",
       "      <td>29600.0</td>\n",
       "      <td>26700.0</td>\n",
       "      <td>1540</td>\n",
       "    </tr>\n",
       "  </tbody>\n",
       "</table>\n",
       "<p>430855 rows × 16 columns</p>\n",
       "</div>"
      ],
      "text/plain": [
       "        year  make  model  trim  body  transmission     vin  state  condition  \\\n",
       "0       2015    18    533   683    32             0  315880      2        5.0   \n",
       "1       2015    18    533   683    32             0  315874      2        5.0   \n",
       "2       2014     2      6   223    33             0  395158      2       45.0   \n",
       "3       2015    41    480  1025    33             0  422274      2       41.0   \n",
       "5       2015    28     46    89    33             0  147618      2        1.0   \n",
       "...      ...   ...    ...   ...   ...           ...     ...    ...        ...   \n",
       "558831  2011     2     15   267    33             0  397030      4       39.0   \n",
       "558833  2012    33      4   781    10             0  225524     32        5.0   \n",
       "558834  2012     2    608  1257    32             0  311171      2       48.0   \n",
       "558835  2015    28     46    89    71             0  147103      5       38.0   \n",
       "558836  2014     9    205  1174    35             0   65496      2       34.0   \n",
       "\n",
       "        odometer  color  interior  seller      mmr  sellingprice  saledate  \n",
       "0        16639.0     17         1    5545  20500.0       21500.0      1611  \n",
       "1         9393.0     17         0    5545  20800.0       21500.0      1611  \n",
       "2         1331.0      7         1    3816  31900.0       30000.0      1040  \n",
       "3        14282.0     17         1   10724  27500.0       27750.0      1129  \n",
       "5         5554.0      7         1    3533  15350.0       10900.0      1674  \n",
       "...          ...    ...       ...     ...      ...           ...       ...  \n",
       "558831   66403.0     17         3    5802  20300.0       22800.0      1978  \n",
       "558833   54393.0     17         1    4986  30200.0       30800.0      3034  \n",
       "558834   50561.0      1         1    3816  29800.0       34000.0      3034  \n",
       "558835   16658.0     17         1    3533  15100.0       11100.0      1161  \n",
       "558836   15008.0      7         6    4055  29600.0       26700.0      1540  \n",
       "\n",
       "[430855 rows x 16 columns]"
      ]
     },
     "execution_count": 31,
     "metadata": {},
     "output_type": "execute_result"
    }
   ],
   "source": [
    "car_data_removed_outlier"
   ]
  },
  {
   "cell_type": "markdown",
   "id": "1acd5486",
   "metadata": {},
   "source": [
    "## 1.5 Normalize numerical columns"
   ]
  },
  {
   "cell_type": "code",
   "execution_count": 32,
   "id": "a368fd42",
   "metadata": {},
   "outputs": [
    {
     "name": "stderr",
     "output_type": "stream",
     "text": [
      "C:\\Users\\LALIT\\AppData\\Local\\Temp\\ipykernel_9904\\1101813988.py:3: SettingWithCopyWarning: \n",
      "A value is trying to be set on a copy of a slice from a DataFrame.\n",
      "Try using .loc[row_indexer,col_indexer] = value instead\n",
      "\n",
      "See the caveats in the documentation: https://pandas.pydata.org/pandas-docs/stable/user_guide/indexing.html#returning-a-view-versus-a-copy\n",
      "  car_data_removed_outlier[numerical_columns] = normalizer.fit_transform(car_data_removed_outlier[numerical_columns])\n"
     ]
    }
   ],
   "source": [
    "numerical_columns = ['odometer', 'mmr']\n",
    "normalizer = MinMaxScaler()\n",
    "car_data_removed_outlier[numerical_columns] = normalizer.fit_transform(car_data_removed_outlier[numerical_columns])"
   ]
  },
  {
   "cell_type": "markdown",
   "id": "7bcb4dea",
   "metadata": {},
   "source": [
    "# 2. Data Visualization"
   ]
  },
  {
   "cell_type": "code",
   "execution_count": 33,
   "id": "83a9ba67",
   "metadata": {},
   "outputs": [
    {
     "data": {
      "text/html": [
       "<div>\n",
       "<style scoped>\n",
       "    .dataframe tbody tr th:only-of-type {\n",
       "        vertical-align: middle;\n",
       "    }\n",
       "\n",
       "    .dataframe tbody tr th {\n",
       "        vertical-align: top;\n",
       "    }\n",
       "\n",
       "    .dataframe thead th {\n",
       "        text-align: right;\n",
       "    }\n",
       "</style>\n",
       "<table border=\"1\" class=\"dataframe\">\n",
       "  <thead>\n",
       "    <tr style=\"text-align: right;\">\n",
       "      <th></th>\n",
       "      <th>year</th>\n",
       "      <th>make</th>\n",
       "      <th>model</th>\n",
       "      <th>trim</th>\n",
       "      <th>body</th>\n",
       "      <th>transmission</th>\n",
       "      <th>vin</th>\n",
       "      <th>state</th>\n",
       "      <th>condition</th>\n",
       "      <th>odometer</th>\n",
       "      <th>color</th>\n",
       "      <th>interior</th>\n",
       "      <th>seller</th>\n",
       "      <th>mmr</th>\n",
       "      <th>sellingprice</th>\n",
       "      <th>saledate</th>\n",
       "    </tr>\n",
       "  </thead>\n",
       "  <tbody>\n",
       "    <tr>\n",
       "      <th>count</th>\n",
       "      <td>430855.000000</td>\n",
       "      <td>430855.000000</td>\n",
       "      <td>430855.000000</td>\n",
       "      <td>430855.000000</td>\n",
       "      <td>430855.000000</td>\n",
       "      <td>430855.000000</td>\n",
       "      <td>430855.000000</td>\n",
       "      <td>430855.000000</td>\n",
       "      <td>430855.000000</td>\n",
       "      <td>430855.000000</td>\n",
       "      <td>430855.000000</td>\n",
       "      <td>430855.000000</td>\n",
       "      <td>430855.000000</td>\n",
       "      <td>430855.000000</td>\n",
       "      <td>430855.000000</td>\n",
       "      <td>430855.000000</td>\n",
       "    </tr>\n",
       "    <tr>\n",
       "      <th>mean</th>\n",
       "      <td>2010.590579</td>\n",
       "      <td>16.253050</td>\n",
       "      <td>274.793687</td>\n",
       "      <td>654.632001</td>\n",
       "      <td>36.377002</td>\n",
       "      <td>0.032807</td>\n",
       "      <td>212437.951926</td>\n",
       "      <td>13.744190</td>\n",
       "      <td>31.384935</td>\n",
       "      <td>0.324678</td>\n",
       "      <td>9.455831</td>\n",
       "      <td>3.799083</td>\n",
       "      <td>5628.035936</td>\n",
       "      <td>0.388690</td>\n",
       "      <td>13248.714087</td>\n",
       "      <td>1826.044402</td>\n",
       "    </tr>\n",
       "    <tr>\n",
       "      <th>std</th>\n",
       "      <td>3.255918</td>\n",
       "      <td>11.711785</td>\n",
       "      <td>176.776497</td>\n",
       "      <td>320.078619</td>\n",
       "      <td>16.494339</td>\n",
       "      <td>0.178131</td>\n",
       "      <td>122654.141616</td>\n",
       "      <td>10.422514</td>\n",
       "      <td>12.850038</td>\n",
       "      <td>0.224427</td>\n",
       "      <td>6.648410</td>\n",
       "      <td>4.034771</td>\n",
       "      <td>3201.517789</td>\n",
       "      <td>0.210905</td>\n",
       "      <td>7235.115067</td>\n",
       "      <td>894.074734</td>\n",
       "    </tr>\n",
       "    <tr>\n",
       "      <th>min</th>\n",
       "      <td>2001.000000</td>\n",
       "      <td>0.000000</td>\n",
       "      <td>0.000000</td>\n",
       "      <td>0.000000</td>\n",
       "      <td>0.000000</td>\n",
       "      <td>0.000000</td>\n",
       "      <td>0.000000</td>\n",
       "      <td>0.000000</td>\n",
       "      <td>1.000000</td>\n",
       "      <td>0.000000</td>\n",
       "      <td>0.000000</td>\n",
       "      <td>0.000000</td>\n",
       "      <td>0.000000</td>\n",
       "      <td>0.000000</td>\n",
       "      <td>1025.000000</td>\n",
       "      <td>0.000000</td>\n",
       "    </tr>\n",
       "    <tr>\n",
       "      <th>25%</th>\n",
       "      <td>2008.000000</td>\n",
       "      <td>7.000000</td>\n",
       "      <td>134.000000</td>\n",
       "      <td>357.000000</td>\n",
       "      <td>32.000000</td>\n",
       "      <td>0.000000</td>\n",
       "      <td>106198.500000</td>\n",
       "      <td>4.000000</td>\n",
       "      <td>25.000000</td>\n",
       "      <td>0.148521</td>\n",
       "      <td>2.000000</td>\n",
       "      <td>1.000000</td>\n",
       "      <td>3274.000000</td>\n",
       "      <td>0.235424</td>\n",
       "      <td>8000.000000</td>\n",
       "      <td>1084.000000</td>\n",
       "    </tr>\n",
       "    <tr>\n",
       "      <th>50%</th>\n",
       "      <td>2012.000000</td>\n",
       "      <td>12.000000</td>\n",
       "      <td>230.000000</td>\n",
       "      <td>678.000000</td>\n",
       "      <td>33.000000</td>\n",
       "      <td>0.000000</td>\n",
       "      <td>212409.000000</td>\n",
       "      <td>12.000000</td>\n",
       "      <td>35.000000</td>\n",
       "      <td>0.260535</td>\n",
       "      <td>7.000000</td>\n",
       "      <td>1.000000</td>\n",
       "      <td>5321.000000</td>\n",
       "      <td>0.360886</td>\n",
       "      <td>12400.000000</td>\n",
       "      <td>1836.000000</td>\n",
       "    </tr>\n",
       "    <tr>\n",
       "      <th>75%</th>\n",
       "      <td>2013.000000</td>\n",
       "      <td>27.000000</td>\n",
       "      <td>404.000000</td>\n",
       "      <td>901.000000</td>\n",
       "      <td>33.000000</td>\n",
       "      <td>0.000000</td>\n",
       "      <td>318629.500000</td>\n",
       "      <td>25.000000</td>\n",
       "      <td>42.000000</td>\n",
       "      <td>0.476745</td>\n",
       "      <td>15.000000</td>\n",
       "      <td>6.000000</td>\n",
       "      <td>8475.000000</td>\n",
       "      <td>0.520295</td>\n",
       "      <td>17800.000000</td>\n",
       "      <td>2560.000000</td>\n",
       "    </tr>\n",
       "    <tr>\n",
       "      <th>max</th>\n",
       "      <td>2015.000000</td>\n",
       "      <td>42.000000</td>\n",
       "      <td>649.000000</td>\n",
       "      <td>1261.000000</td>\n",
       "      <td>79.000000</td>\n",
       "      <td>1.000000</td>\n",
       "      <td>424773.000000</td>\n",
       "      <td>33.000000</td>\n",
       "      <td>49.000000</td>\n",
       "      <td>1.000000</td>\n",
       "      <td>19.000000</td>\n",
       "      <td>16.000000</td>\n",
       "      <td>11084.000000</td>\n",
       "      <td>1.000000</td>\n",
       "      <td>34200.000000</td>\n",
       "      <td>3456.000000</td>\n",
       "    </tr>\n",
       "  </tbody>\n",
       "</table>\n",
       "</div>"
      ],
      "text/plain": [
       "                year           make          model           trim  \\\n",
       "count  430855.000000  430855.000000  430855.000000  430855.000000   \n",
       "mean     2010.590579      16.253050     274.793687     654.632001   \n",
       "std         3.255918      11.711785     176.776497     320.078619   \n",
       "min      2001.000000       0.000000       0.000000       0.000000   \n",
       "25%      2008.000000       7.000000     134.000000     357.000000   \n",
       "50%      2012.000000      12.000000     230.000000     678.000000   \n",
       "75%      2013.000000      27.000000     404.000000     901.000000   \n",
       "max      2015.000000      42.000000     649.000000    1261.000000   \n",
       "\n",
       "                body   transmission            vin          state  \\\n",
       "count  430855.000000  430855.000000  430855.000000  430855.000000   \n",
       "mean       36.377002       0.032807  212437.951926      13.744190   \n",
       "std        16.494339       0.178131  122654.141616      10.422514   \n",
       "min         0.000000       0.000000       0.000000       0.000000   \n",
       "25%        32.000000       0.000000  106198.500000       4.000000   \n",
       "50%        33.000000       0.000000  212409.000000      12.000000   \n",
       "75%        33.000000       0.000000  318629.500000      25.000000   \n",
       "max        79.000000       1.000000  424773.000000      33.000000   \n",
       "\n",
       "           condition       odometer          color       interior  \\\n",
       "count  430855.000000  430855.000000  430855.000000  430855.000000   \n",
       "mean       31.384935       0.324678       9.455831       3.799083   \n",
       "std        12.850038       0.224427       6.648410       4.034771   \n",
       "min         1.000000       0.000000       0.000000       0.000000   \n",
       "25%        25.000000       0.148521       2.000000       1.000000   \n",
       "50%        35.000000       0.260535       7.000000       1.000000   \n",
       "75%        42.000000       0.476745      15.000000       6.000000   \n",
       "max        49.000000       1.000000      19.000000      16.000000   \n",
       "\n",
       "              seller            mmr   sellingprice       saledate  \n",
       "count  430855.000000  430855.000000  430855.000000  430855.000000  \n",
       "mean     5628.035936       0.388690   13248.714087    1826.044402  \n",
       "std      3201.517789       0.210905    7235.115067     894.074734  \n",
       "min         0.000000       0.000000    1025.000000       0.000000  \n",
       "25%      3274.000000       0.235424    8000.000000    1084.000000  \n",
       "50%      5321.000000       0.360886   12400.000000    1836.000000  \n",
       "75%      8475.000000       0.520295   17800.000000    2560.000000  \n",
       "max     11084.000000       1.000000   34200.000000    3456.000000  "
      ]
     },
     "execution_count": 33,
     "metadata": {},
     "output_type": "execute_result"
    }
   ],
   "source": [
    "car_data_removed_outlier.describe()"
   ]
  },
  {
   "cell_type": "code",
   "execution_count": 34,
   "id": "68a113cc",
   "metadata": {},
   "outputs": [
    {
     "name": "stderr",
     "output_type": "stream",
     "text": [
      "C:\\Users\\LALIT\\AppData\\Local\\Temp\\ipykernel_9904\\518944814.py:1: SettingWithCopyWarning: \n",
      "A value is trying to be set on a copy of a slice from a DataFrame.\n",
      "Try using .loc[row_indexer,col_indexer] = value instead\n",
      "\n",
      "See the caveats in the documentation: https://pandas.pydata.org/pandas-docs/stable/user_guide/indexing.html#returning-a-view-versus-a-copy\n",
      "  car_data_removed_outlier['priceBins'] = pd.cut(car_data_removed_outlier['sellingprice'], class_bins, labels=class_names)\n"
     ]
    }
   ],
   "source": [
    "car_data_removed_outlier['priceBins'] = pd.cut(car_data_removed_outlier['sellingprice'], class_bins, labels=class_names)"
   ]
  },
  {
   "cell_type": "code",
   "execution_count": 35,
   "id": "fc992451",
   "metadata": {},
   "outputs": [
    {
     "data": {
      "text/plain": [
       "0         20k-30k\n",
       "1         20k-30k\n",
       "2         20k-30k\n",
       "3         20k-30k\n",
       "5         10k-15k\n",
       "           ...   \n",
       "558831    20k-30k\n",
       "558833    30k-40k\n",
       "558834    30k-40k\n",
       "558835    10k-15k\n",
       "558836    20k-30k\n",
       "Name: priceBins, Length: 430855, dtype: category\n",
       "Categories (6, object): ['<5k' < '5k-10k' < '10k-15k' < '15k-20k' < '20k-30k' < '30k-40k']"
      ]
     },
     "execution_count": 35,
     "metadata": {},
     "output_type": "execute_result"
    }
   ],
   "source": [
    "car_data_removed_outlier['priceBins']"
   ]
  },
  {
   "cell_type": "code",
   "execution_count": 36,
   "id": "cc79410c",
   "metadata": {},
   "outputs": [
    {
     "data": {
      "text/plain": [
       "{0: '10k-15k', 1: '15k-20k', 2: '20k-30k', 3: '30k-40k', 4: '5k-10k', 5: '<5k'}"
      ]
     },
     "execution_count": 36,
     "metadata": {},
     "output_type": "execute_result"
    }
   ],
   "source": [
    "encoded_values = label_encoder.fit_transform(car_data_removed_outlier['priceBins'])\n",
    "label_correspondence = {label: original_label for original_label, label in zip(label_encoder.classes_, label_encoder.transform(label_encoder.classes_))}\n",
    "label_correspondence"
   ]
  },
  {
   "cell_type": "markdown",
   "id": "d9ef7690",
   "metadata": {},
   "source": [
    "## 2.1 Histogram of Selling Price"
   ]
  },
  {
   "cell_type": "markdown",
   "id": "dd8b9e6d",
   "metadata": {},
   "source": [
    "This histogram is plotted to check the number of entries in each label or category"
   ]
  },
  {
   "cell_type": "code",
   "execution_count": 37,
   "id": "3e02e2a7",
   "metadata": {},
   "outputs": [
    {
     "data": {
      "image/png": "[encoded data removed]",
      "text/plain": [
       "<Figure size 800x600 with 1 Axes>"
      ]
     },
     "metadata": {},
     "output_type": "display_data"
    }
   ],
   "source": [
    "plt.figure(figsize=(8, 6))\n",
    "sns.histplot(encoded_values, bins=6, kde=True)\n",
    "plt.title('Histogram of Selling Price')\n",
    "plt.xlabel('Selling Price')\n",
    "plt.ylabel('Number of Records')\n",
    "plt.show()"
   ]
  },
  {
   "cell_type": "markdown",
   "id": "593bc8d8",
   "metadata": {},
   "source": [
    "## 2.2 Countplot of Selling Price by State"
   ]
  },
  {
   "cell_type": "markdown",
   "id": "645ceb87",
   "metadata": {},
   "source": [
    "This countplot is plotted to check the number of cars belonging to each category (Price range) in each of the given 33 states in the dataset"
   ]
  },
  {
   "cell_type": "code",
   "execution_count": 38,
   "id": "ba61cdbe",
   "metadata": {},
   "outputs": [
    {
     "data": {
      "image/png": "[encoded data removed]",
      "text/plain": [
       "<Figure size 1200x600 with 1 Axes>"
      ]
     },
     "metadata": {},
     "output_type": "display_data"
    }
   ],
   "source": [
    "plt.figure(figsize=(12, 6))\n",
    "sns.countplot(x=car_data_removed_outlier['state'], hue=encoded_values)\n",
    "plt.title('Count of Cars Sold by State and Selling Price')\n",
    "plt.xlabel('State')\n",
    "plt.ylabel('Count')\n",
    "plt.legend(title='Selling Price')\n",
    "plt.show()"
   ]
  },
  {
   "cell_type": "markdown",
   "id": "fffa083c",
   "metadata": {},
   "source": [
    "## 2.3 Boxplot of Selling Price by Make"
   ]
  },
  {
   "cell_type": "markdown",
   "id": "c0e37258",
   "metadata": {},
   "source": [
    "This boxplot is plotted to check how the distribution of each mentioned category of selling price varies with the Make of the car."
   ]
  },
  {
   "cell_type": "code",
   "execution_count": 39,
   "id": "005c557c",
   "metadata": {},
   "outputs": [
    {
     "data": {
      "image/png": "[encoded data removed]",
      "text/plain": [
       "<Figure size 1200x600 with 1 Axes>"
      ]
     },
     "metadata": {},
     "output_type": "display_data"
    }
   ],
   "source": [
    "plt.figure(figsize=(12, 6))\n",
    "sns.boxplot(x=car_data_removed_outlier['make'], y=encoded_values)\n",
    "plt.title('Distribution of Selling Price by Make')\n",
    "plt.xlabel('Make')\n",
    "plt.ylabel('Selling Price')\n",
    "plt.xticks(rotation=45)\n",
    "plt.show()"
   ]
  },
  {
   "cell_type": "markdown",
   "id": "467a0e49",
   "metadata": {},
   "source": [
    "## 2.4 Scatter Plot of Odometer vs Selling Price"
   ]
  },
  {
   "cell_type": "markdown",
   "id": "1cc5a9b0",
   "metadata": {},
   "source": [
    "This scatter plot indicates the distribution of odometer reading for each of the selling price category."
   ]
  },
  {
   "cell_type": "code",
   "execution_count": 40,
   "id": "773ea524",
   "metadata": {},
   "outputs": [
    {
     "data": {
      "image/png": "[encoded data removed]",
      "text/plain": [
       "<Figure size 800x600 with 1 Axes>"
      ]
     },
     "metadata": {},
     "output_type": "display_data"
    }
   ],
   "source": [
    "plt.figure(figsize=(8, 6))\n",
    "sns.scatterplot(x=car_data_removed_outlier['odometer'], y=encoded_values)\n",
    "plt.title('Odometer vs. Selling Price')\n",
    "plt.xlabel('Odometer')\n",
    "plt.ylabel('Selling Price')\n",
    "plt.show()"
   ]
  },
  {
   "cell_type": "markdown",
   "id": "a19e96f6",
   "metadata": {},
   "source": [
    "# 3. Problem Statement"
   ]
  },
  {
   "cell_type": "markdown",
   "id": "234ea493",
   "metadata": {},
   "source": [
    "## 3.1 Regression"
   ]
  },
  {
   "cell_type": "markdown",
   "id": "a42f45ca",
   "metadata": {},
   "source": [
    "Feature Columns: year, make, model, trim, body, transmission, vin, state, condition, odometer, color, interior, seller, mmr\n",
    "\n",
    "Label Column: Selling Price\n",
    "\n",
    "The features like year, make, model, odometer, etc. all contribute to the selling price of the car. VIN number of vehicle and sellingDate don't contribute to the selling price, hence those columns will be removed in the feature extraction stage.\n",
    "\n",
    "Evaluation Metrics: mean squared error, root mean squared error, and R-square will be calculate to evalute the prediction quality."
   ]
  },
  {
   "cell_type": "markdown",
   "id": "880522a5",
   "metadata": {},
   "source": [
    "## 3.2 Classification"
   ]
  },
  {
   "cell_type": "markdown",
   "id": "0f47562f",
   "metadata": {},
   "source": [
    "Ranges for the classification label: The ranges are in dollars. There are six ranges. 1. Less than $ 5000, 2. Between $ 5000 to $ 10000, 3. Between $ 10000 to $ 15000, 4. Between $ 15000 to $ 20000, 5. Between $ 20000 to $ 30000, 6. Between $ 30000 to $ 40000.\n",
    "\n",
    "Performance Comparison: Performance of the model will be evaluated by calculating confusion matrix, precision, recall, and f1-score"
   ]
  },
  {
   "cell_type": "markdown",
   "id": "f786fc41",
   "metadata": {},
   "source": [
    "# 4. Features Selection/Extraction"
   ]
  },
  {
   "cell_type": "markdown",
   "id": "a07de8a7",
   "metadata": {},
   "source": [
    "## 4.1 Feature Selection"
   ]
  },
  {
   "cell_type": "code",
   "execution_count": 41,
   "id": "6964e780",
   "metadata": {},
   "outputs": [],
   "source": [
    "columns_to_drop = ['vin', 'saledate']\n",
    "car_data_removed_outlier = car_data_removed_outlier.drop(columns = columns_to_drop)"
   ]
  },
  {
   "cell_type": "markdown",
   "id": "f19579b4",
   "metadata": {},
   "source": [
    "## 4.2 Feature Extraction"
   ]
  },
  {
   "cell_type": "code",
   "execution_count": 42,
   "id": "11675394",
   "metadata": {},
   "outputs": [],
   "source": [
    "regression_label_data = car_data_removed_outlier['sellingprice']\n",
    "classification_label_data = encoded_values"
   ]
  },
  {
   "cell_type": "code",
   "execution_count": 43,
   "id": "7d7f78ae",
   "metadata": {},
   "outputs": [],
   "source": [
    "columns_to_drop = ['sellingprice', 'priceBins']\n",
    "car_data_for_pca = car_data_removed_outlier.drop(columns = columns_to_drop)"
   ]
  },
  {
   "cell_type": "code",
   "execution_count": 44,
   "id": "c1fa750c",
   "metadata": {},
   "outputs": [
    {
     "data": {
      "text/html": [
       "<div>\n",
       "<style scoped>\n",
       "    .dataframe tbody tr th:only-of-type {\n",
       "        vertical-align: middle;\n",
       "    }\n",
       "\n",
       "    .dataframe tbody tr th {\n",
       "        vertical-align: top;\n",
       "    }\n",
       "\n",
       "    .dataframe thead th {\n",
       "        text-align: right;\n",
       "    }\n",
       "</style>\n",
       "<table border=\"1\" class=\"dataframe\">\n",
       "  <thead>\n",
       "    <tr style=\"text-align: right;\">\n",
       "      <th></th>\n",
       "      <th>year</th>\n",
       "      <th>make</th>\n",
       "      <th>model</th>\n",
       "      <th>trim</th>\n",
       "      <th>body</th>\n",
       "      <th>transmission</th>\n",
       "      <th>state</th>\n",
       "      <th>condition</th>\n",
       "      <th>odometer</th>\n",
       "      <th>color</th>\n",
       "      <th>interior</th>\n",
       "      <th>seller</th>\n",
       "      <th>mmr</th>\n",
       "    </tr>\n",
       "  </thead>\n",
       "  <tbody>\n",
       "    <tr>\n",
       "      <th>0</th>\n",
       "      <td>2015</td>\n",
       "      <td>18</td>\n",
       "      <td>533</td>\n",
       "      <td>683</td>\n",
       "      <td>32</td>\n",
       "      <td>0</td>\n",
       "      <td>2</td>\n",
       "      <td>5.0</td>\n",
       "      <td>0.087370</td>\n",
       "      <td>17</td>\n",
       "      <td>1</td>\n",
       "      <td>5545</td>\n",
       "      <td>0.598524</td>\n",
       "    </tr>\n",
       "    <tr>\n",
       "      <th>1</th>\n",
       "      <td>2015</td>\n",
       "      <td>18</td>\n",
       "      <td>533</td>\n",
       "      <td>683</td>\n",
       "      <td>32</td>\n",
       "      <td>0</td>\n",
       "      <td>2</td>\n",
       "      <td>5.0</td>\n",
       "      <td>0.049320</td>\n",
       "      <td>17</td>\n",
       "      <td>0</td>\n",
       "      <td>5545</td>\n",
       "      <td>0.607380</td>\n",
       "    </tr>\n",
       "    <tr>\n",
       "      <th>2</th>\n",
       "      <td>2014</td>\n",
       "      <td>2</td>\n",
       "      <td>6</td>\n",
       "      <td>223</td>\n",
       "      <td>33</td>\n",
       "      <td>0</td>\n",
       "      <td>2</td>\n",
       "      <td>45.0</td>\n",
       "      <td>0.006984</td>\n",
       "      <td>7</td>\n",
       "      <td>1</td>\n",
       "      <td>3816</td>\n",
       "      <td>0.935055</td>\n",
       "    </tr>\n",
       "    <tr>\n",
       "      <th>3</th>\n",
       "      <td>2015</td>\n",
       "      <td>41</td>\n",
       "      <td>480</td>\n",
       "      <td>1025</td>\n",
       "      <td>33</td>\n",
       "      <td>0</td>\n",
       "      <td>2</td>\n",
       "      <td>41.0</td>\n",
       "      <td>0.074993</td>\n",
       "      <td>17</td>\n",
       "      <td>1</td>\n",
       "      <td>10724</td>\n",
       "      <td>0.805166</td>\n",
       "    </tr>\n",
       "    <tr>\n",
       "      <th>5</th>\n",
       "      <td>2015</td>\n",
       "      <td>28</td>\n",
       "      <td>46</td>\n",
       "      <td>89</td>\n",
       "      <td>33</td>\n",
       "      <td>0</td>\n",
       "      <td>2</td>\n",
       "      <td>1.0</td>\n",
       "      <td>0.029160</td>\n",
       "      <td>7</td>\n",
       "      <td>1</td>\n",
       "      <td>3533</td>\n",
       "      <td>0.446494</td>\n",
       "    </tr>\n",
       "  </tbody>\n",
       "</table>\n",
       "</div>"
      ],
      "text/plain": [
       "   year  make  model  trim  body  transmission  state  condition  odometer  \\\n",
       "0  2015    18    533   683    32             0      2        5.0  0.087370   \n",
       "1  2015    18    533   683    32             0      2        5.0  0.049320   \n",
       "2  2014     2      6   223    33             0      2       45.0  0.006984   \n",
       "3  2015    41    480  1025    33             0      2       41.0  0.074993   \n",
       "5  2015    28     46    89    33             0      2        1.0  0.029160   \n",
       "\n",
       "   color  interior  seller       mmr  \n",
       "0     17         1    5545  0.598524  \n",
       "1     17         0    5545  0.607380  \n",
       "2      7         1    3816  0.935055  \n",
       "3     17         1   10724  0.805166  \n",
       "5      7         1    3533  0.446494  "
      ]
     },
     "execution_count": 44,
     "metadata": {},
     "output_type": "execute_result"
    }
   ],
   "source": [
    "car_data_for_pca.head()"
   ]
  },
  {
   "cell_type": "code",
   "execution_count": 45,
   "id": "4ec625cd",
   "metadata": {},
   "outputs": [
    {
     "data": {
      "image/png": "[encoded data removed]",
      "text/plain": [
       "<Figure size 1000x800 with 2 Axes>"
      ]
     },
     "metadata": {},
     "output_type": "display_data"
    }
   ],
   "source": [
    "corr = car_data_for_pca.corr()\n",
    "\n",
    "plt.figure(figsize=(10, 8))\n",
    "sns.heatmap(corr, cmap='coolwarm', annot=True, fmt=\".2f\", linewidths=0.5)\n",
    "plt.title('Correlation Heatmap')\n",
    "plt.show()"
   ]
  },
  {
   "cell_type": "markdown",
   "id": "d8d510e5",
   "metadata": {},
   "source": [
    "From the above correlation plot, it can be fairly assumed that features 'state' and 'model' have least impact on the Selling Price of the car. Hence, these columns can be removed for reducing the size of the dataset."
   ]
  },
  {
   "cell_type": "code",
   "execution_count": 46,
   "id": "5493d603",
   "metadata": {},
   "outputs": [],
   "source": [
    "columns_to_drop = ['model', 'state']\n",
    "car_data_for_training = car_data_for_pca.drop(columns = columns_to_drop)"
   ]
  },
  {
   "cell_type": "code",
   "execution_count": 47,
   "id": "2743896b",
   "metadata": {},
   "outputs": [
    {
     "data": {
      "text/html": [
       "<div>\n",
       "<style scoped>\n",
       "    .dataframe tbody tr th:only-of-type {\n",
       "        vertical-align: middle;\n",
       "    }\n",
       "\n",
       "    .dataframe tbody tr th {\n",
       "        vertical-align: top;\n",
       "    }\n",
       "\n",
       "    .dataframe thead th {\n",
       "        text-align: right;\n",
       "    }\n",
       "</style>\n",
       "<table border=\"1\" class=\"dataframe\">\n",
       "  <thead>\n",
       "    <tr style=\"text-align: right;\">\n",
       "      <th></th>\n",
       "      <th>year</th>\n",
       "      <th>make</th>\n",
       "      <th>trim</th>\n",
       "      <th>body</th>\n",
       "      <th>transmission</th>\n",
       "      <th>condition</th>\n",
       "      <th>odometer</th>\n",
       "      <th>color</th>\n",
       "      <th>interior</th>\n",
       "      <th>seller</th>\n",
       "      <th>mmr</th>\n",
       "    </tr>\n",
       "  </thead>\n",
       "  <tbody>\n",
       "    <tr>\n",
       "      <th>0</th>\n",
       "      <td>2015</td>\n",
       "      <td>18</td>\n",
       "      <td>683</td>\n",
       "      <td>32</td>\n",
       "      <td>0</td>\n",
       "      <td>5.0</td>\n",
       "      <td>0.087370</td>\n",
       "      <td>17</td>\n",
       "      <td>1</td>\n",
       "      <td>5545</td>\n",
       "      <td>0.598524</td>\n",
       "    </tr>\n",
       "    <tr>\n",
       "      <th>1</th>\n",
       "      <td>2015</td>\n",
       "      <td>18</td>\n",
       "      <td>683</td>\n",
       "      <td>32</td>\n",
       "      <td>0</td>\n",
       "      <td>5.0</td>\n",
       "      <td>0.049320</td>\n",
       "      <td>17</td>\n",
       "      <td>0</td>\n",
       "      <td>5545</td>\n",
       "      <td>0.607380</td>\n",
       "    </tr>\n",
       "    <tr>\n",
       "      <th>2</th>\n",
       "      <td>2014</td>\n",
       "      <td>2</td>\n",
       "      <td>223</td>\n",
       "      <td>33</td>\n",
       "      <td>0</td>\n",
       "      <td>45.0</td>\n",
       "      <td>0.006984</td>\n",
       "      <td>7</td>\n",
       "      <td>1</td>\n",
       "      <td>3816</td>\n",
       "      <td>0.935055</td>\n",
       "    </tr>\n",
       "    <tr>\n",
       "      <th>3</th>\n",
       "      <td>2015</td>\n",
       "      <td>41</td>\n",
       "      <td>1025</td>\n",
       "      <td>33</td>\n",
       "      <td>0</td>\n",
       "      <td>41.0</td>\n",
       "      <td>0.074993</td>\n",
       "      <td>17</td>\n",
       "      <td>1</td>\n",
       "      <td>10724</td>\n",
       "      <td>0.805166</td>\n",
       "    </tr>\n",
       "    <tr>\n",
       "      <th>5</th>\n",
       "      <td>2015</td>\n",
       "      <td>28</td>\n",
       "      <td>89</td>\n",
       "      <td>33</td>\n",
       "      <td>0</td>\n",
       "      <td>1.0</td>\n",
       "      <td>0.029160</td>\n",
       "      <td>7</td>\n",
       "      <td>1</td>\n",
       "      <td>3533</td>\n",
       "      <td>0.446494</td>\n",
       "    </tr>\n",
       "  </tbody>\n",
       "</table>\n",
       "</div>"
      ],
      "text/plain": [
       "   year  make  trim  body  transmission  condition  odometer  color  interior  \\\n",
       "0  2015    18   683    32             0        5.0  0.087370     17         1   \n",
       "1  2015    18   683    32             0        5.0  0.049320     17         0   \n",
       "2  2014     2   223    33             0       45.0  0.006984      7         1   \n",
       "3  2015    41  1025    33             0       41.0  0.074993     17         1   \n",
       "5  2015    28    89    33             0        1.0  0.029160      7         1   \n",
       "\n",
       "   seller       mmr  \n",
       "0    5545  0.598524  \n",
       "1    5545  0.607380  \n",
       "2    3816  0.935055  \n",
       "3   10724  0.805166  \n",
       "5    3533  0.446494  "
      ]
     },
     "execution_count": 47,
     "metadata": {},
     "output_type": "execute_result"
    }
   ],
   "source": [
    "car_data_for_training.head()"
   ]
  },
  {
   "cell_type": "markdown",
   "id": "220e3942",
   "metadata": {},
   "source": [
    "# 5. Comparing different models (Features are fixed)"
   ]
  },
  {
   "cell_type": "markdown",
   "id": "f63d61fa",
   "metadata": {},
   "source": [
    "## 5.1 Regression"
   ]
  },
  {
   "cell_type": "markdown",
   "id": "27c5b220",
   "metadata": {},
   "source": [
    "### 5.1.1 Linear Regression"
   ]
  },
  {
   "cell_type": "code",
   "execution_count": 48,
   "id": "2f7230a7",
   "metadata": {},
   "outputs": [],
   "source": [
    "X_train, X_test, y_train, y_test = train_test_split(car_data_for_training, regression_label_data, test_size=0.2, random_state=42)"
   ]
  },
  {
   "cell_type": "code",
   "execution_count": 49,
   "id": "fd1088f5",
   "metadata": {},
   "outputs": [],
   "source": [
    "model = LinearRegression()\n",
    "model.fit(X_train, y_train)\n",
    "y_pred = model.predict(X_test)"
   ]
  },
  {
   "cell_type": "code",
   "execution_count": 50,
   "id": "ee348bff",
   "metadata": {},
   "outputs": [],
   "source": [
    "mse = mean_squared_error(y_test, y_pred)\n",
    "mae = mean_absolute_error(y_test, y_pred)\n",
    "r2 = r2_score(y_test, y_pred)"
   ]
  },
  {
   "cell_type": "code",
   "execution_count": 51,
   "id": "66e86f4d",
   "metadata": {},
   "outputs": [
    {
     "name": "stdout",
     "output_type": "stream",
     "text": [
      "2277312.206291292 1008.2184703695996 0.9562221652968277\n"
     ]
    }
   ],
   "source": [
    "print(mse, mae, r2)"
   ]
  },
  {
   "cell_type": "markdown",
   "id": "cbd9d07d",
   "metadata": {},
   "source": [
    "### 5.1.2 Polynomial Regression "
   ]
  },
  {
   "cell_type": "code",
   "execution_count": 52,
   "id": "af5b6b2b",
   "metadata": {},
   "outputs": [],
   "source": [
    "degree = 3\n",
    "\n",
    "\n",
    "poly_features = PolynomialFeatures(degree=degree)\n",
    "X_train_poly = poly_features.fit_transform(X_train)\n",
    "X_test_poly = poly_features.transform(X_test)\n",
    "\n",
    "\n",
    "model = LinearRegression()\n",
    "model.fit(X_train_poly, y_train)\n",
    "\n",
    "\n",
    "y_pred = model.predict(X_test_poly)"
   ]
  },
  {
   "cell_type": "code",
   "execution_count": 53,
   "id": "02e71722",
   "metadata": {},
   "outputs": [],
   "source": [
    "mse = mean_squared_error(y_test, y_pred)\n",
    "mae = mean_absolute_error(y_test, y_pred)\n",
    "r2 = r2_score(y_test, y_pred)"
   ]
  },
  {
   "cell_type": "code",
   "execution_count": 54,
   "id": "416499c6",
   "metadata": {},
   "outputs": [
    {
     "name": "stdout",
     "output_type": "stream",
     "text": [
      "2146297.1113748066 964.6707885402644 0.9587407295731835\n"
     ]
    }
   ],
   "source": [
    "print(mse, mae, r2)"
   ]
  },
  {
   "cell_type": "markdown",
   "id": "30fa99ad",
   "metadata": {},
   "source": [
    "### 5.1.3 Decision Tree Regression"
   ]
  },
  {
   "cell_type": "code",
   "execution_count": 55,
   "id": "f4b859f7",
   "metadata": {},
   "outputs": [],
   "source": [
    "model = DecisionTreeRegressor(max_depth=8)\n",
    "model.fit(X_train, y_train)\n",
    "y_pred = model.predict(X_test)"
   ]
  },
  {
   "cell_type": "code",
   "execution_count": 56,
   "id": "f7691f91",
   "metadata": {},
   "outputs": [],
   "source": [
    "mse = mean_squared_error(y_test, y_pred)\n",
    "mae = mean_absolute_error(y_test, y_pred)\n",
    "r2 = r2_score(y_test, y_pred)"
   ]
  },
  {
   "cell_type": "code",
   "execution_count": 57,
   "id": "f4c53a1c",
   "metadata": {},
   "outputs": [
    {
     "name": "stdout",
     "output_type": "stream",
     "text": [
      "2010366.6942140998 960.6426008510945 0.9613537833815964\n"
     ]
    }
   ],
   "source": [
    "print(mse, mae, r2)"
   ]
  },
  {
   "cell_type": "markdown",
   "id": "0d5fcc83",
   "metadata": {},
   "source": [
    "### 5.1.4 Random Forest Regression"
   ]
  },
  {
   "cell_type": "code",
   "execution_count": 58,
   "id": "b0746612",
   "metadata": {},
   "outputs": [],
   "source": [
    "model = RandomForestRegressor(n_estimators=100, max_depth=3)\n",
    "model.fit(X_train, y_train)\n",
    "y_pred = model.predict(X_test)"
   ]
  },
  {
   "cell_type": "code",
   "execution_count": 59,
   "id": "e2c25a06",
   "metadata": {},
   "outputs": [],
   "source": [
    "mse = mean_squared_error(y_test, y_pred)\n",
    "mae = mean_absolute_error(y_test, y_pred)\n",
    "r2 = r2_score(y_test, y_pred)"
   ]
  },
  {
   "cell_type": "code",
   "execution_count": 60,
   "id": "61642f2b",
   "metadata": {
    "scrolled": true
   },
   "outputs": [
    {
     "name": "stdout",
     "output_type": "stream",
     "text": [
      "3401866.5941224615 1343.704961941113 0.9346043317959154\n"
     ]
    }
   ],
   "source": [
    "print(mse, mae, r2)"
   ]
  },
  {
   "cell_type": "markdown",
   "id": "98060a5a",
   "metadata": {},
   "source": [
    "### 5.1.5 Xgboost Regression"
   ]
  },
  {
   "cell_type": "code",
   "execution_count": 61,
   "id": "64a8118f",
   "metadata": {},
   "outputs": [],
   "source": [
    "model = XGBRegressor(n_estimators=100, max_depth=3)\n",
    "model.fit(X_train, y_train)\n",
    "y_pred = model.predict(X_test)"
   ]
  },
  {
   "cell_type": "code",
   "execution_count": 62,
   "id": "2d821da4",
   "metadata": {},
   "outputs": [],
   "source": [
    "mse = mean_squared_error(y_test, y_pred)\n",
    "mae = mean_absolute_error(y_test, y_pred)\n",
    "r2 = r2_score(y_test, y_pred)"
   ]
  },
  {
   "cell_type": "code",
   "execution_count": 63,
   "id": "3357b14d",
   "metadata": {},
   "outputs": [
    {
     "name": "stdout",
     "output_type": "stream",
     "text": [
      "1799459.8847871984 902.2820591665665 0.9654081433482963\n"
     ]
    }
   ],
   "source": [
    "print(mse, mae, r2)"
   ]
  },
  {
   "cell_type": "markdown",
   "id": "40571363",
   "metadata": {},
   "source": [
    "## Comparison of different models for regression yields Xgboost Regressor as the best performing model"
   ]
  },
  {
   "cell_type": "markdown",
   "id": "54512c67",
   "metadata": {},
   "source": [
    "## 5.2 Classification"
   ]
  },
  {
   "cell_type": "code",
   "execution_count": 64,
   "id": "1bb4fb03",
   "metadata": {},
   "outputs": [],
   "source": [
    "X_train, X_test, y_train, y_test = train_test_split(car_data_for_training, classification_label_data, test_size=0.2, random_state=42)"
   ]
  },
  {
   "cell_type": "markdown",
   "id": "200edb87",
   "metadata": {},
   "source": [
    "### 5.2.1 Logistic Regression"
   ]
  },
  {
   "cell_type": "code",
   "execution_count": 125,
   "id": "79806ca1",
   "metadata": {},
   "outputs": [
    {
     "name": "stderr",
     "output_type": "stream",
     "text": [
      "C:\\Users\\LALIT\\anaconda3\\lib\\site-packages\\sklearn\\linear_model\\_logistic.py:814: ConvergenceWarning: lbfgs failed to converge (status=1):\n",
      "STOP: TOTAL NO. of ITERATIONS REACHED LIMIT.\n",
      "\n",
      "Increase the number of iterations (max_iter) or scale the data as shown in:\n",
      "    https://scikit-learn.org/stable/modules/preprocessing.html\n",
      "Please also refer to the documentation for alternative solver options:\n",
      "    https://scikit-learn.org/stable/modules/linear_model.html#logistic-regression\n",
      "  n_iter_i = _check_optimize_result(\n"
     ]
    }
   ],
   "source": [
    "model = LogisticRegression(class_weight='balanced', tol = 0.01, max_iter = 10000)\n",
    "model.fit(X_train, y_train)\n",
    "y_pred = model.predict(X_test)"
   ]
  },
  {
   "cell_type": "code",
   "execution_count": 126,
   "id": "34722606",
   "metadata": {},
   "outputs": [],
   "source": [
    "precision = precision_score(y_test, y_pred, average = 'weighted')\n",
    "recall = recall_score(y_test, y_pred, average = 'weighted')\n",
    "f1 = f1_score(y_test, y_pred, average = 'weighted')\n",
    "conf_matrix = confusion_matrix(y_test, y_pred)"
   ]
  },
  {
   "cell_type": "code",
   "execution_count": 127,
   "id": "3453f069",
   "metadata": {},
   "outputs": [
    {
     "name": "stdout",
     "output_type": "stream",
     "text": [
      "0.52719880411354\n",
      "0.4945054945054945\n",
      "0.48398251952348664\n"
     ]
    },
    {
     "data": {
      "image/png": "[encoded data removed]",
      "text/plain": [
       "<Figure size 640x480 with 2 Axes>"
      ]
     },
     "metadata": {},
     "output_type": "display_data"
    }
   ],
   "source": [
    "print(precision)\n",
    "print(recall)\n",
    "print(f1)\n",
    "disp = ConfusionMatrixDisplay(confusion_matrix=conf_matrix, display_labels=model.classes_)\n",
    "disp.plot()\n",
    "plt.show()"
   ]
  },
  {
   "cell_type": "markdown",
   "id": "39cf9c69",
   "metadata": {},
   "source": [
    "### 5.2.2 MLP Classifier"
   ]
  },
  {
   "cell_type": "code",
   "execution_count": 96,
   "id": "af943155",
   "metadata": {},
   "outputs": [],
   "source": [
    "model = MLPClassifier(hidden_layer_sizes=(400, 400), max_iter=1000, activation = 'tanh', solver = 'sgd', random_state=42)  \n",
    "model.fit(X_train, y_train)\n",
    "y_pred = model.predict(X_test)"
   ]
  },
  {
   "cell_type": "code",
   "execution_count": 97,
   "id": "65270913",
   "metadata": {},
   "outputs": [
    {
     "name": "stderr",
     "output_type": "stream",
     "text": [
      "C:\\Users\\LALIT\\anaconda3\\lib\\site-packages\\sklearn\\metrics\\_classification.py:1318: UndefinedMetricWarning: Precision is ill-defined and being set to 0.0 in labels with no predicted samples. Use `zero_division` parameter to control this behavior.\n",
      "  _warn_prf(average, modifier, msg_start, len(result))\n"
     ]
    }
   ],
   "source": [
    "precision = precision_score(y_test, y_pred, average = 'weighted')\n",
    "recall = recall_score(y_test, y_pred, average = 'weighted')\n",
    "f1 = f1_score(y_test, y_pred, average = 'weighted')\n",
    "conf_matrix = confusion_matrix(y_test, y_pred)"
   ]
  },
  {
   "cell_type": "code",
   "execution_count": 98,
   "id": "0303b57e",
   "metadata": {},
   "outputs": [
    {
     "name": "stdout",
     "output_type": "stream",
     "text": [
      "0.08246843468625059\n",
      "0.28717317891169886\n",
      "0.1281388332780169\n"
     ]
    },
    {
     "data": {
      "image/png": "[encoded data removed]",
      "text/plain": [
       "<Figure size 640x480 with 2 Axes>"
      ]
     },
     "metadata": {},
     "output_type": "display_data"
    }
   ],
   "source": [
    "print(precision)\n",
    "print(recall)\n",
    "print(f1)\n",
    "disp = ConfusionMatrixDisplay(confusion_matrix=conf_matrix, display_labels=model.classes_)\n",
    "disp.plot()\n",
    "plt.show()"
   ]
  },
  {
   "cell_type": "markdown",
   "id": "714dd1b7",
   "metadata": {},
   "source": [
    "### 5.2.3 Decision Tree Classifier"
   ]
  },
  {
   "cell_type": "code",
   "execution_count": 105,
   "id": "cc47f52b",
   "metadata": {},
   "outputs": [],
   "source": [
    "model = DecisionTreeClassifier(max_depth=8) \n",
    "model.fit(X_train, y_train)\n",
    "y_pred = model.predict(X_test)"
   ]
  },
  {
   "cell_type": "code",
   "execution_count": 106,
   "id": "82b53fb0",
   "metadata": {},
   "outputs": [],
   "source": [
    "precision = precision_score(y_test, y_pred, average = 'weighted')\n",
    "recall = recall_score(y_test, y_pred, average = 'weighted')\n",
    "f1 = f1_score(y_test, y_pred, average = 'weighted')\n",
    "conf_matrix = confusion_matrix(y_test, y_pred)"
   ]
  },
  {
   "cell_type": "code",
   "execution_count": 107,
   "id": "28e033cf",
   "metadata": {},
   "outputs": [
    {
     "name": "stdout",
     "output_type": "stream",
     "text": [
      "0.8421449852732642\n",
      "0.8419421847257198\n",
      "0.8419618050692456\n"
     ]
    },
    {
     "data": {
      "image/png": "[encoded data removed]",
      "text/plain": [
       "<Figure size 640x480 with 2 Axes>"
      ]
     },
     "metadata": {},
     "output_type": "display_data"
    }
   ],
   "source": [
    "print(precision)\n",
    "print(recall)\n",
    "print(f1)\n",
    "disp = ConfusionMatrixDisplay(confusion_matrix=conf_matrix, display_labels=model.classes_)\n",
    "disp.plot()\n",
    "plt.show()"
   ]
  },
  {
   "cell_type": "markdown",
   "id": "2db054f6",
   "metadata": {},
   "source": [
    "### 5.2.4 Random Forest Classifier"
   ]
  },
  {
   "cell_type": "code",
   "execution_count": 108,
   "id": "b6520bee",
   "metadata": {},
   "outputs": [],
   "source": [
    "model = RandomForestClassifier(n_estimators=100, max_depth=3) \n",
    "model.fit(X_train, y_train)\n",
    "y_pred = model.predict(X_test)"
   ]
  },
  {
   "cell_type": "code",
   "execution_count": 109,
   "id": "9b0ab165",
   "metadata": {},
   "outputs": [
    {
     "name": "stderr",
     "output_type": "stream",
     "text": [
      "C:\\Users\\LALIT\\anaconda3\\lib\\site-packages\\sklearn\\metrics\\_classification.py:1318: UndefinedMetricWarning: Precision is ill-defined and being set to 0.0 in labels with no predicted samples. Use `zero_division` parameter to control this behavior.\n",
      "  _warn_prf(average, modifier, msg_start, len(result))\n"
     ]
    }
   ],
   "source": [
    "precision = precision_score(y_test, y_pred, average = 'weighted')\n",
    "recall = recall_score(y_test, y_pred, average = 'weighted')\n",
    "f1 = f1_score(y_test, y_pred, average = 'weighted')\n",
    "conf_matrix = confusion_matrix(y_test, y_pred)"
   ]
  },
  {
   "cell_type": "code",
   "execution_count": 110,
   "id": "34de1f56",
   "metadata": {},
   "outputs": [
    {
     "name": "stdout",
     "output_type": "stream",
     "text": [
      "0.774703848424446\n",
      "0.7885715611980829\n",
      "0.7798216178289586\n"
     ]
    },
    {
     "data": {
      "image/png": "[encoded data removed]",
      "text/plain": [
       "<Figure size 640x480 with 2 Axes>"
      ]
     },
     "metadata": {},
     "output_type": "display_data"
    }
   ],
   "source": [
    "print(precision)\n",
    "print(recall)\n",
    "print(f1)\n",
    "disp = ConfusionMatrixDisplay(confusion_matrix=conf_matrix, display_labels=model.classes_)\n",
    "disp.plot()\n",
    "plt.show()"
   ]
  },
  {
   "cell_type": "markdown",
   "id": "45669c71",
   "metadata": {},
   "source": [
    "### 5.2.5 Xgboost Classifier"
   ]
  },
  {
   "cell_type": "code",
   "execution_count": 111,
   "id": "0199b247",
   "metadata": {},
   "outputs": [],
   "source": [
    "model = XGBClassifier(n_estimators=100, max_depth=3)  \n",
    "model.fit(X_train, y_train)\n",
    "y_pred = model.predict(X_test)"
   ]
  },
  {
   "cell_type": "code",
   "execution_count": 112,
   "id": "4028e280",
   "metadata": {},
   "outputs": [],
   "source": [
    "precision = precision_score(y_test, y_pred, average = 'weighted')\n",
    "recall = recall_score(y_test, y_pred, average = 'weighted')\n",
    "f1 = f1_score(y_test, y_pred, average = 'weighted')\n",
    "conf_matrix = confusion_matrix(y_test, y_pred)"
   ]
  },
  {
   "cell_type": "code",
   "execution_count": 113,
   "id": "2ba4d618",
   "metadata": {},
   "outputs": [
    {
     "name": "stdout",
     "output_type": "stream",
     "text": [
      "0.8483590706922767\n",
      "0.8485221246126887\n",
      "0.8483955670431164\n"
     ]
    },
    {
     "data": {
      "image/png": "[encoded data removed]",
      "text/plain": [
       "<Figure size 640x480 with 2 Axes>"
      ]
     },
     "metadata": {},
     "output_type": "display_data"
    }
   ],
   "source": [
    "print(precision)\n",
    "print(recall)\n",
    "print(f1)\n",
    "disp = ConfusionMatrixDisplay(confusion_matrix=conf_matrix, display_labels=model.classes_)\n",
    "disp.plot()\n",
    "plt.show()"
   ]
  },
  {
   "cell_type": "markdown",
   "id": "609c2a96",
   "metadata": {},
   "source": [
    "## Comparison of different models for classification yeilds Xgboost classifier as the best performing model"
   ]
  },
  {
   "cell_type": "markdown",
   "id": "baf02c89",
   "metadata": {},
   "source": [
    "# 6. Unsupervised + Supervised"
   ]
  },
  {
   "cell_type": "code",
   "execution_count": 241,
   "id": "fcc69a81",
   "metadata": {},
   "outputs": [],
   "source": [
    "car_data_for_training['sellingprice'] = regression_label_data\n",
    "car_data_for_training['priceBins'] = classification_label_data"
   ]
  },
  {
   "cell_type": "code",
   "execution_count": 242,
   "id": "447b074c",
   "metadata": {},
   "outputs": [],
   "source": [
    "X = car_data_for_training.drop(columns=['sellingprice', 'priceBins']) \n",
    "n_clusters = 6\n",
    "kmeans = KMeans(n_clusters=n_clusters, random_state=42)\n",
    "car_data_for_training['cluster'] = kmeans.fit_predict(X)"
   ]
  },
  {
   "cell_type": "markdown",
   "id": "70509de1",
   "metadata": {},
   "source": [
    "## 6.1 Clustering + Regression"
   ]
  },
  {
   "cell_type": "code",
   "execution_count": 243,
   "id": "35758f3b",
   "metadata": {},
   "outputs": [
    {
     "name": "stdout",
     "output_type": "stream",
     "text": [
      "Average R2 Score for regression is:  0.9656951859231458\n"
     ]
    }
   ],
   "source": [
    "regression_models_r2 = {}\n",
    "for cluster_no in range(n_clusters):\n",
    "    cluster_data = car_data_for_training[car_data_for_training['cluster'] == cluster_no]\n",
    "    X_cluster = cluster_data.drop(columns=['sellingprice', 'priceBins', 'cluster'])\n",
    "    y_cluster = cluster_data['sellingprice']\n",
    "    X_train, X_test, y_train, y_test = train_test_split(X_cluster, y_cluster, test_size=0.2, random_state=42)\n",
    "    regression_model = XGBRegressor(n_estimators=100, max_depth=3)\n",
    "    regression_model.fit(X_train, y_train)\n",
    "    y_pred = regression_model.predict(X_test)\n",
    "    regression_models_r2[cluster_no] = r2_score(y_test, y_pred)\n",
    "total_r2_regression = 0.0\n",
    "for i in range(len(regression_models_r2)):\n",
    "    total_r2_regression += regression_models_r2[i]\n",
    "average_r2_regression = total_precision_regression/float(len(regression_models_r2))\n",
    "print('Average R2 Score for regression is: ', average_r2_regression)"
   ]
  },
  {
   "cell_type": "markdown",
   "id": "52e011ae",
   "metadata": {},
   "source": [
    "The 'Clustering + Regression' generates almost similar results compared to 'Regression' alone with the best performing Xgboost model. Hence, tried changing the Xgboost's parameters, but all the combinations of the paramters tend to give close results. The results of different paramterts have been documented below. "
   ]
  },
  {
   "cell_type": "markdown",
   "id": "3295fc3c",
   "metadata": {},
   "source": [
    "### Try 2 for 'Clustering + Regression'"
   ]
  },
  {
   "cell_type": "code",
   "execution_count": 244,
   "id": "b3a3619d",
   "metadata": {},
   "outputs": [
    {
     "name": "stdout",
     "output_type": "stream",
     "text": [
      "Average R2 Score for regression is:  0.9656951859231458\n"
     ]
    }
   ],
   "source": [
    "regression_models_r2 = {}\n",
    "for cluster_no in range(n_clusters):\n",
    "    cluster_data = car_data_for_training[car_data_for_training['cluster'] == cluster_no]\n",
    "    X_cluster = cluster_data.drop(columns=['sellingprice', 'priceBins', 'cluster'])\n",
    "    y_cluster = cluster_data['sellingprice']\n",
    "    X_train, X_test, y_train, y_test = train_test_split(X_cluster, y_cluster, test_size=0.2, random_state=42)\n",
    "    regression_model = XGBRegressor(n_estimators=100, max_depth=6)\n",
    "    regression_model.fit(X_train, y_train)\n",
    "    y_pred = regression_model.predict(X_test)\n",
    "    regression_models_r2[cluster_no] = r2_score(y_test, y_pred)\n",
    "total_r2_regression = 0.0\n",
    "for i in range(len(regression_models_r2)):\n",
    "    total_r2_regression += regression_models_r2[i]\n",
    "average_r2_regression = total_precision_regression/float(len(regression_models_r2))\n",
    "print('Average R2 Score for regression is: ', average_r2_regression)"
   ]
  },
  {
   "cell_type": "markdown",
   "id": "8496df17",
   "metadata": {},
   "source": [
    "### Try 3 for 'Clustering + Regression'"
   ]
  },
  {
   "cell_type": "code",
   "execution_count": 245,
   "id": "24d856d7",
   "metadata": {},
   "outputs": [
    {
     "name": "stdout",
     "output_type": "stream",
     "text": [
      "Average R2 Score for regression is:  0.9656951859231458\n"
     ]
    }
   ],
   "source": [
    "regression_models_r2 = {}\n",
    "for cluster_no in range(n_clusters):\n",
    "    cluster_data = car_data_for_training[car_data_for_training['cluster'] == cluster_no]\n",
    "    X_cluster = cluster_data.drop(columns=['sellingprice', 'priceBins', 'cluster'])\n",
    "    y_cluster = cluster_data['sellingprice']\n",
    "    X_train, X_test, y_train, y_test = train_test_split(X_cluster, y_cluster, test_size=0.2, random_state=42)\n",
    "    regression_model = XGBRegressor(n_estimators=130, max_depth=6)\n",
    "    regression_model.fit(X_train, y_train)\n",
    "    y_pred = regression_model.predict(X_test)\n",
    "    regression_models_r2[cluster_no] = r2_score(y_test, y_pred)\n",
    "total_r2_regression = 0.0\n",
    "for i in range(len(regression_models_r2)):\n",
    "    total_r2_regression += regression_models_r2[i]\n",
    "average_r2_regression = total_precision_regression/float(len(regression_models_r2))\n",
    "print('Average R2 Score for regression is: ', average_r2_regression)"
   ]
  },
  {
   "cell_type": "markdown",
   "id": "b4aad7cc",
   "metadata": {},
   "source": [
    "### Try 4 for 'Clustering + Regression'"
   ]
  },
  {
   "cell_type": "code",
   "execution_count": 246,
   "id": "582acdac",
   "metadata": {},
   "outputs": [
    {
     "name": "stdout",
     "output_type": "stream",
     "text": [
      "Average R2 Score for regression is:  0.9656951859231458\n"
     ]
    }
   ],
   "source": [
    "regression_models_r2 = {}\n",
    "for cluster_no in range(n_clusters):\n",
    "    cluster_data = car_data_for_training[car_data_for_training['cluster'] == cluster_no]\n",
    "    X_cluster = cluster_data.drop(columns=['sellingprice', 'priceBins', 'cluster'])\n",
    "    y_cluster = cluster_data['sellingprice']\n",
    "    X_train, X_test, y_train, y_test = train_test_split(X_cluster, y_cluster, test_size=0.2, random_state=42)\n",
    "    regression_model = XGBRegressor(n_estimators=150, max_depth=9)\n",
    "    regression_model.fit(X_train, y_train)\n",
    "    y_pred = regression_model.predict(X_test)\n",
    "    regression_models_r2[cluster_no] = r2_score(y_test, y_pred)\n",
    "total_r2_regression = 0.0\n",
    "for i in range(len(regression_models_r2)):\n",
    "    total_r2_regression += regression_models_r2[i]\n",
    "average_r2_regression = total_precision_regression/float(len(regression_models_r2))\n",
    "print('Average R2 Score for regression is: ', average_r2_regression)"
   ]
  },
  {
   "cell_type": "markdown",
   "id": "467c4624",
   "metadata": {},
   "source": [
    "### Try 5 for 'Clustering + Regression'"
   ]
  },
  {
   "cell_type": "code",
   "execution_count": 247,
   "id": "7d2cde4b",
   "metadata": {},
   "outputs": [
    {
     "name": "stdout",
     "output_type": "stream",
     "text": [
      "Average R2 Score for regression is:  0.9656951859231458\n"
     ]
    }
   ],
   "source": [
    "regression_models_r2 = {}\n",
    "for cluster_no in range(n_clusters):\n",
    "    cluster_data = car_data_for_training[car_data_for_training['cluster'] == cluster_no]\n",
    "    X_cluster = cluster_data.drop(columns=['sellingprice', 'priceBins', 'cluster'])\n",
    "    y_cluster = cluster_data['sellingprice']\n",
    "    X_train, X_test, y_train, y_test = train_test_split(X_cluster, y_cluster, test_size=0.2, random_state=42)\n",
    "    regression_model = XGBRegressor(n_estimators=80, max_depth=6)\n",
    "    regression_model.fit(X_train, y_train)\n",
    "    y_pred = regression_model.predict(X_test)\n",
    "    regression_models_r2[cluster_no] = r2_score(y_test, y_pred)\n",
    "total_r2_regression = 0.0\n",
    "for i in range(len(regression_models_r2)):\n",
    "    total_r2_regression += regression_models_r2[i]\n",
    "average_r2_regression = total_precision_regression/float(len(regression_models_r2))\n",
    "print('Average R2 Score for regression is: ', average_r2_regression)"
   ]
  },
  {
   "cell_type": "markdown",
   "id": "a9c11fb2",
   "metadata": {},
   "source": [
    "### Try 6 for 'Clustering + Regression'"
   ]
  },
  {
   "cell_type": "code",
   "execution_count": 248,
   "id": "d24241d7",
   "metadata": {},
   "outputs": [
    {
     "name": "stdout",
     "output_type": "stream",
     "text": [
      "Average R2 Score for regression is:  0.9656951859231458\n"
     ]
    }
   ],
   "source": [
    "regression_models_r2 = {}\n",
    "for cluster_no in range(n_clusters):\n",
    "    cluster_data = car_data_for_training[car_data_for_training['cluster'] == cluster_no]\n",
    "    X_cluster = cluster_data.drop(columns=['sellingprice', 'priceBins', 'cluster'])\n",
    "    y_cluster = cluster_data['sellingprice']\n",
    "    X_train, X_test, y_train, y_test = train_test_split(X_cluster, y_cluster, test_size=0.2, random_state=42)\n",
    "    regression_model = XGBRegressor(n_estimators=80, max_depth=3)\n",
    "    regression_model.fit(X_train, y_train)\n",
    "    y_pred = regression_model.predict(X_test)\n",
    "    regression_models_r2[cluster_no] = r2_score(y_test, y_pred)\n",
    "total_r2_regression = 0.0\n",
    "for i in range(len(regression_models_r2)):\n",
    "    total_r2_regression += regression_models_r2[i]\n",
    "average_r2_regression = total_precision_regression/float(len(regression_models_r2))\n",
    "print('Average R2 Score for regression is: ', average_r2_regression)"
   ]
  },
  {
   "cell_type": "markdown",
   "id": "b4de7b5b",
   "metadata": {},
   "source": [
    "### Try 7 for 'Clustering + Regression'"
   ]
  },
  {
   "cell_type": "code",
   "execution_count": 249,
   "id": "b4f57f73",
   "metadata": {},
   "outputs": [
    {
     "name": "stdout",
     "output_type": "stream",
     "text": [
      "Average R2 Score for regression is:  0.9656951859231458\n"
     ]
    }
   ],
   "source": [
    "regression_models_r2 = {}\n",
    "for cluster_no in range(n_clusters):\n",
    "    cluster_data = car_data_for_training[car_data_for_training['cluster'] == cluster_no]\n",
    "    X_cluster = cluster_data.drop(columns=['sellingprice', 'priceBins', 'cluster'])\n",
    "    y_cluster = cluster_data['sellingprice']\n",
    "    X_train, X_test, y_train, y_test = train_test_split(X_cluster, y_cluster, test_size=0.2, random_state=42)\n",
    "    regression_model = XGBRegressor(n_estimators=300, max_depth=12)\n",
    "    regression_model.fit(X_train, y_train)\n",
    "    y_pred = regression_model.predict(X_test)\n",
    "    regression_models_r2[cluster_no] = r2_score(y_test, y_pred)\n",
    "total_r2_regression = 0.0\n",
    "for i in range(len(regression_models_r2)):\n",
    "    total_r2_regression += regression_models_r2[i]\n",
    "average_r2_regression = total_precision_regression/float(len(regression_models_r2))\n",
    "print('Average R2 Score for regression is: ', average_r2_regression)"
   ]
  },
  {
   "cell_type": "markdown",
   "id": "c38a5118",
   "metadata": {},
   "source": [
    "## 6.2 Clustering + Classification"
   ]
  },
  {
   "cell_type": "code",
   "execution_count": 230,
   "id": "228426bd",
   "metadata": {},
   "outputs": [],
   "source": [
    "classification_models_precision = {}\n",
    "for cluster_no in range(n_clusters):\n",
    "    cluster_data = car_data_for_training[car_data_for_training['cluster'] == cluster_no]\n",
    "    X_cluster = cluster_data.drop(columns=['sellingprice', 'priceBins', 'cluster'])\n",
    "    y_cluster = cluster_data['priceBins']\n",
    "    X_train, X_test, y_train, y_test = train_test_split(X_cluster, y_cluster, test_size=0.2, random_state=42)\n",
    "    classification_model = XGBClassifier(n_estimators=100, max_depth=3) \n",
    "    classification_model.fit(X_train, y_train)\n",
    "    y_pred = classification_model.predict(X_test)\n",
    "    classification_models_precision[cluster_no] = precision_score(y_test, y_pred, average = 'weighted')"
   ]
  },
  {
   "cell_type": "code",
   "execution_count": 231,
   "id": "10567dc8",
   "metadata": {},
   "outputs": [
    {
     "data": {
      "text/plain": [
       "0.8463260740755073"
      ]
     },
     "execution_count": 231,
     "metadata": {},
     "output_type": "execute_result"
    }
   ],
   "source": [
    "total_precision_classification = 0.0\n",
    "for i in range(len(classification_models_r2)):\n",
    "    total_precision_classification += classification_models_r2[i]\n",
    "average_precision_classification = total_precision_classification/float(len(classification_models_r2))\n",
    "print('Average precision for classification is: ', average_precision_classification)"
   ]
  },
  {
   "cell_type": "markdown",
   "id": "1eb968e0",
   "metadata": {},
   "source": [
    "The 'Clustering + Classification' generates almost similar results compared to 'Classification' alone with the best performing Xgboost model. Hence, tried changing the Xgboost's parameters, but all the combinations of the paramters tend to give close results. The results of different paramterts have been documented below. "
   ]
  },
  {
   "cell_type": "markdown",
   "id": "34fa9178",
   "metadata": {},
   "source": [
    "### Try 2 for 'Clustering + Classification'"
   ]
  },
  {
   "cell_type": "code",
   "execution_count": 233,
   "id": "227e7607",
   "metadata": {},
   "outputs": [
    {
     "name": "stdout",
     "output_type": "stream",
     "text": [
      "Average precision for classification is:  0.8463260740755073\n"
     ]
    }
   ],
   "source": [
    "classification_models_precision = {}\n",
    "for cluster_no in range(n_clusters):\n",
    "    cluster_data = car_data_for_training[car_data_for_training['cluster'] == cluster_no]\n",
    "    X_cluster = cluster_data.drop(columns=['sellingprice', 'priceBins', 'cluster'])\n",
    "    y_cluster = cluster_data['priceBins']\n",
    "    X_train, X_test, y_train, y_test = train_test_split(X_cluster, y_cluster, test_size=0.2, random_state=42)\n",
    "    classification_model = XGBClassifier(n_estimators=100, max_depth=6) \n",
    "    classification_model.fit(X_train, y_train)\n",
    "    y_pred = classification_model.predict(X_test)\n",
    "    classification_models_precision[cluster_no] = precision_score(y_test, y_pred, average = 'weighted')\n",
    "total_precision_classification = 0.0\n",
    "for i in range(len(classification_models_precision)):\n",
    "    total_precision_classification += classification_models_precision[i]\n",
    "average_precision_classification = total_precision_classification/float(len(classification_models_precision))\n",
    "print('Average precision for classification is: ', average_precision_classification)"
   ]
  },
  {
   "cell_type": "markdown",
   "id": "d5207a56",
   "metadata": {},
   "source": [
    "### Try 3 for 'Clustering + Classification'"
   ]
  },
  {
   "cell_type": "code",
   "execution_count": 234,
   "id": "24ce869f",
   "metadata": {},
   "outputs": [
    {
     "name": "stdout",
     "output_type": "stream",
     "text": [
      "Average precision for classification is:  0.8463260740755073\n"
     ]
    }
   ],
   "source": [
    "classification_models_precision = {}\n",
    "for cluster_no in range(n_clusters):\n",
    "    cluster_data = car_data_for_training[car_data_for_training['cluster'] == cluster_no]\n",
    "    X_cluster = cluster_data.drop(columns=['sellingprice', 'priceBins', 'cluster'])\n",
    "    y_cluster = cluster_data['priceBins']\n",
    "    X_train, X_test, y_train, y_test = train_test_split(X_cluster, y_cluster, test_size=0.2, random_state=42)\n",
    "    classification_model = XGBClassifier(n_estimators=130, max_depth=6) \n",
    "    classification_model.fit(X_train, y_train)\n",
    "    y_pred = classification_model.predict(X_test)\n",
    "    classification_models_precision[cluster_no] = precision_score(y_test, y_pred, average = 'weighted')\n",
    "total_precision_classification = 0.0\n",
    "for i in range(len(classification_models_precision)):\n",
    "    total_precision_classification += classification_models_precision[i]\n",
    "average_precision_classification = total_precision_classification/float(len(classification_models_precision))\n",
    "print('Average precision for classification is: ', average_precision_classification)"
   ]
  },
  {
   "cell_type": "markdown",
   "id": "aba7375f",
   "metadata": {},
   "source": [
    "### Try 4 for 'Clustering + Classification'"
   ]
  },
  {
   "cell_type": "code",
   "execution_count": 236,
   "id": "4fbfa92e",
   "metadata": {},
   "outputs": [
    {
     "name": "stdout",
     "output_type": "stream",
     "text": [
      "Average precision for classification is:  0.8463260740755073\n"
     ]
    }
   ],
   "source": [
    "classification_models_precision = {}\n",
    "for cluster_no in range(n_clusters):\n",
    "    cluster_data = car_data_for_training[car_data_for_training['cluster'] == cluster_no]\n",
    "    X_cluster = cluster_data.drop(columns=['sellingprice', 'priceBins', 'cluster'])\n",
    "    y_cluster = cluster_data['priceBins']\n",
    "    X_train, X_test, y_train, y_test = train_test_split(X_cluster, y_cluster, test_size=0.2, random_state=42)\n",
    "    classification_model = XGBClassifier(n_estimators=150, max_depth=9) \n",
    "    classification_model.fit(X_train, y_train)\n",
    "    y_pred = classification_model.predict(X_test)\n",
    "    classification_models_precision[cluster_no] = precision_score(y_test, y_pred, average = 'weighted')\n",
    "total_precision_classification = 0.0\n",
    "for i in range(len(classification_models_precision)):\n",
    "    total_precision_classification += classification_models_precision[i]\n",
    "average_precision_classification = total_precision_classification/float(len(classification_models_precision))\n",
    "print('Average precision for classification is: ', average_precision_classification)"
   ]
  },
  {
   "cell_type": "markdown",
   "id": "f7c6e47c",
   "metadata": {},
   "source": [
    "### Try 5 for 'Clustering + Classification'"
   ]
  },
  {
   "cell_type": "code",
   "execution_count": 237,
   "id": "eceb87d1",
   "metadata": {},
   "outputs": [
    {
     "name": "stdout",
     "output_type": "stream",
     "text": [
      "Average precision for classification is:  0.8463260740755073\n"
     ]
    }
   ],
   "source": [
    "classification_models_precision = {}\n",
    "for cluster_no in range(n_clusters):\n",
    "    cluster_data = car_data_for_training[car_data_for_training['cluster'] == cluster_no]\n",
    "    X_cluster = cluster_data.drop(columns=['sellingprice', 'priceBins', 'cluster'])\n",
    "    y_cluster = cluster_data['priceBins']\n",
    "    X_train, X_test, y_train, y_test = train_test_split(X_cluster, y_cluster, test_size=0.2, random_state=42)\n",
    "    classification_model = XGBClassifier(n_estimators=80, max_depth=6) \n",
    "    classification_model.fit(X_train, y_train)\n",
    "    y_pred = classification_model.predict(X_test)\n",
    "    classification_models_precision[cluster_no] = precision_score(y_test, y_pred, average = 'weighted')\n",
    "total_precision_classification = 0.0\n",
    "for i in range(len(classification_models_precision)):\n",
    "    total_precision_classification += classification_models_precision[i]\n",
    "average_precision_classification = total_precision_classification/float(len(classification_models_precision))\n",
    "print('Average precision for classification is: ', average_precision_classification)"
   ]
  },
  {
   "cell_type": "markdown",
   "id": "ad19bb9e",
   "metadata": {},
   "source": [
    "### Try 6 for 'Clustering + Classification'"
   ]
  },
  {
   "cell_type": "code",
   "execution_count": 238,
   "id": "61420205",
   "metadata": {},
   "outputs": [
    {
     "name": "stdout",
     "output_type": "stream",
     "text": [
      "Average precision for classification is:  0.8463260740755073\n"
     ]
    }
   ],
   "source": [
    "classification_models_precision = {}\n",
    "for cluster_no in range(n_clusters):\n",
    "    cluster_data = car_data_for_training[car_data_for_training['cluster'] == cluster_no]\n",
    "    X_cluster = cluster_data.drop(columns=['sellingprice', 'priceBins', 'cluster'])\n",
    "    y_cluster = cluster_data['priceBins']\n",
    "    X_train, X_test, y_train, y_test = train_test_split(X_cluster, y_cluster, test_size=0.2, random_state=42)\n",
    "    classification_model = XGBClassifier(n_estimators=80, max_depth=3) \n",
    "    classification_model.fit(X_train, y_train)\n",
    "    y_pred = classification_model.predict(X_test)\n",
    "    classification_models_precision[cluster_no] = precision_score(y_test, y_pred, average = 'weighted')\n",
    "total_precision_classification = 0.0\n",
    "for i in range(len(classification_models_precision)):\n",
    "    total_precision_classification += classification_models_precision[i]\n",
    "average_precision_classification = total_precision_classification/float(len(classification_models_precision))\n",
    "print('Average precision for classification is: ', average_precision_classification)"
   ]
  },
  {
   "cell_type": "markdown",
   "id": "44d114de",
   "metadata": {},
   "source": [
    "### Try 7 for 'Clustering + Classification'"
   ]
  },
  {
   "cell_type": "code",
   "execution_count": 239,
   "id": "d1c3b3d4",
   "metadata": {},
   "outputs": [
    {
     "name": "stdout",
     "output_type": "stream",
     "text": [
      "Average precision for classification is:  0.8463260740755073\n"
     ]
    }
   ],
   "source": [
    "classification_models_precision = {}\n",
    "for cluster_no in range(n_clusters):\n",
    "    cluster_data = car_data_for_training[car_data_for_training['cluster'] == cluster_no]\n",
    "    X_cluster = cluster_data.drop(columns=['sellingprice', 'priceBins', 'cluster'])\n",
    "    y_cluster = cluster_data['priceBins']\n",
    "    X_train, X_test, y_train, y_test = train_test_split(X_cluster, y_cluster, test_size=0.2, random_state=42)\n",
    "    classification_model = XGBClassifier(n_estimators=300, max_depth=12) \n",
    "    classification_model.fit(X_train, y_train)\n",
    "    y_pred = classification_model.predict(X_test)\n",
    "    classification_models_precision[cluster_no] = precision_score(y_test, y_pred, average = 'weighted')\n",
    "total_precision_classification = 0.0\n",
    "for i in range(len(classification_models_precision)):\n",
    "    total_precision_classification += classification_models_precision[i]\n",
    "average_precision_classification = total_precision_classification/float(len(classification_models_precision))\n",
    "print('Average precision for classification is: ', average_precision_classification)"
   ]
  },
  {
   "cell_type": "markdown",
   "id": "079a2ba0",
   "metadata": {},
   "source": [
    "# 7. Conclusion and result justification"
   ]
  },
  {
   "cell_type": "markdown",
   "id": "9ade81af",
   "metadata": {},
   "source": [
    "For the selected dataset 'Car Price Prediction', regression and classification is performed. The label 'Selling Price' is a continuous variable. Hence, regression is performed directly using the 'Selling Price' label as it is. For regression, several models are implemented. Almost all the models performed good for the regression problem. But, Xgboost Regressor is the best performing model for the given problem of regression. \n",
    "\n",
    "As the label is continuous, to perform classification, the labels are converted into categories. The categories are made based on the price range. After converting the continuous label to discrete ranges, classification is performed using different models. In classification, 'Xgboost Classifier' produced best results. \n",
    "\n",
    "If regression and classification are compared, regression tend to perform better than classification. This can be attributed to the fact that the actual label is continuous and regression performs best on the continuous variables. Classification generated acceptable results, but since the original label was modified and then the task of classification was performed, it slightly underperformed as compared to the regression.\n",
    "\n",
    "So, if I have to choose a model for predicting the car price, I will use 'Xgboost Regressor'. For this model I can use n_estimators in the range [90, 110], and max_depth in the range [4, 6]. \n",
    "\n",
    "Coming to the end, I really enjoyed this course. The course was online, so it enabled me to learn at my own pace, and revise the concepts whenever I wanted. This course helped me strengthen my foundations of machine learning, and I am confident that this strong foundation will enable me in building bigger and complex model to solve problems."
   ]
  },
  {
   "cell_type": "code",
   "execution_count": null,
   "id": "91d4ee11",
   "metadata": {},
   "outputs": [],
   "source": []
  }
 ],
 "metadata": {
  "kernelspec": {
   "display_name": "Python 3 (ipykernel)",
   "language": "python",
   "name": "python3"
  },
  "language_info": {
   "codemirror_mode": {
    "name": "ipython",
    "version": 3
   },
   "file_extension": ".py",
   "mimetype": "text/x-python",
   "name": "python",
   "nbconvert_exporter": "python",
   "pygments_lexer": "ipython3",
   "version": "3.9.13"
  }
 },
 "nbformat": 4,
 "nbformat_minor": 5
}
